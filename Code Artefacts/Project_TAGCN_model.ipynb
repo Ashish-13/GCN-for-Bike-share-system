{
  "nbformat": 4,
  "nbformat_minor": 0,
  "metadata": {
    "colab": {
      "name": "Project_TAGCN_model_12.ipynb",
      "provenance": [],
      "collapsed_sections": [],
      "toc_visible": true
    },
    "kernelspec": {
      "name": "python3",
      "display_name": "Python 3"
    },
    "accelerator": "GPU"
  },
  "cells": [
    {
      "cell_type": "markdown",
      "metadata": {
        "id": "gSmFpN5jLbbT",
        "colab_type": "text"
      },
      "source": [
        "# **Bike Sharing System**"
      ]
    },
    {
      "cell_type": "code",
      "metadata": {
        "id": "NUPiINH68i_j",
        "colab_type": "code",
        "colab": {
          "base_uri": "https://localhost:8080/",
          "height": 125
        },
        "outputId": "2724bdd7-a2fc-470e-f5e1-e4320e7bfced"
      },
      "source": [
        "from google.colab import drive\n",
        "drive.mount('/content/drive')"
      ],
      "execution_count": 1,
      "outputs": [
        {
          "output_type": "stream",
          "text": [
            "Go to this URL in a browser: https://accounts.google.com/o/oauth2/auth?client_id=947318989803-6bn6qk8qdgf4n4g3pfee6491hc0brc4i.apps.googleusercontent.com&redirect_uri=urn%3aietf%3awg%3aoauth%3a2.0%3aoob&scope=email%20https%3a%2f%2fwww.googleapis.com%2fauth%2fdocs.test%20https%3a%2f%2fwww.googleapis.com%2fauth%2fdrive%20https%3a%2f%2fwww.googleapis.com%2fauth%2fdrive.photos.readonly%20https%3a%2f%2fwww.googleapis.com%2fauth%2fpeopleapi.readonly&response_type=code\n",
            "\n",
            "Enter your authorization code:\n",
            "··········\n",
            "Mounted at /content/drive\n"
          ],
          "name": "stdout"
        }
      ]
    },
    {
      "cell_type": "markdown",
      "metadata": {
        "id": "T8aMDMcpL2th",
        "colab_type": "text"
      },
      "source": [
        "# 1. Install Libraries "
      ]
    },
    {
      "cell_type": "code",
      "metadata": {
        "id": "XJQ6_sdfLNIu",
        "colab_type": "code",
        "colab": {}
      },
      "source": [
        "!pip install torch==1.5.0+cu101 torchvision==0.6.0+cu101 -f https://download.pytorch.org/whl/torch_stable.html"
      ],
      "execution_count": null,
      "outputs": []
    },
    {
      "cell_type": "code",
      "metadata": {
        "id": "XVXlgYMv9djC",
        "colab_type": "code",
        "colab": {}
      },
      "source": [
        "!pip install torch-scatter==latest+cu101 -f https://pytorch-geometric.com/whl/torch-1.5.0.html\n",
        "!pip install torch-sparse==latest+cu101 -f https://pytorch-geometric.com/whl/torch-1.5.0.html\n",
        "!pip install torch-cluster==latest+cu101 -f https://pytorch-geometric.com/whl/torch-1.5.0.html\n",
        "!pip install torch-spline-conv==latest+cu101 -f https://pytorch-geometric.com/whl/torch-1.5.0.html\n",
        "!pip install torch-geometric -f https://pytorch-geometric.com/whl/torch-1.5.0.html"
      ],
      "execution_count": null,
      "outputs": []
    },
    {
      "cell_type": "code",
      "metadata": {
        "id": "qHZC11fTVe_0",
        "colab_type": "code",
        "colab": {}
      },
      "source": [
        "import torch\n",
        "import torch.nn.functional as F\n",
        "from torch_geometric.data import Data\n",
        "import os\n",
        "from os import listdir, makedirs, remove\n",
        "import os.path as osp\n",
        "import pandas as pd\n",
        "from datetime import datetime, timedelta\n",
        "import numpy as np\n",
        "from numpy.random import Generator, PCG64\n",
        "from torch_geometric.data import Dataset, DataLoader\n",
        "from torch_geometric.data import Data\n",
        "import torch.nn.functional as funct\n",
        "from torch_geometric.nn import GCNConv, TAGConv\n",
        "import matplotlib.pyplot as plt\n",
        "from sklearn.metrics import mean_squared_error\n",
        "from sklearn.metrics import mean_absolute_error\n"
      ],
      "execution_count": 4,
      "outputs": []
    },
    {
      "cell_type": "markdown",
      "metadata": {
        "id": "xSkE_mogKoVU",
        "colab_type": "text"
      },
      "source": [
        "## Graph Structure"
      ]
    },
    {
      "cell_type": "code",
      "metadata": {
        "id": "ZzPkmbCS9HGt",
        "colab_type": "code",
        "colab": {}
      },
      "source": [
        "def create_torch_data(source_data_files, station_exclusion, time_id_bounds, \n",
        "                      time_input_number, time_forward_pred, sample_size, t_shuffle, \n",
        "                      store_dir, time_int):\n",
        "  \n",
        "  edge_index, edge_attr, station_id_2_node_id_map = make_edges(station_exclusion, time_int)\n",
        "  processed_file_names = []\n",
        "  for raw_file_name in source_data_files:\n",
        "    df = pd.read_csv(raw_file_name)\n",
        "    # Apply filters on data to situate in the graph\n",
        "    if not station_exclusion is None:\n",
        "      df = df.loc[~df['station_id'].isin(station_exclusion)]\n",
        "    if not time_id_bounds is None:\n",
        "      df = df.loc[(df['time_id'] >= time_id_bounds[0]) & \\\n",
        "                  (df['time_id'] <= time_id_bounds[1])]\n",
        "    # In the event that filters removed all data, jump to next iteration \n",
        "    if len(df) == 0:\n",
        "      continue\n",
        "\n",
        "    slice_generator = time_windows(df, sample_size,t_shuffle, time_input_number, time_forward_pred,\n",
        "                                   station_id_2_node_id_map, t_start=df['time_id'].min(),\n",
        "                                   t_end=(df['time_id'].max() - time_input_number - time_forward_pred))\n",
        "\n",
        "    for count, (data_g_xt, data_g_yt) in enumerate(slice_generator):\n",
        "      data_graph = Data(x=torch.tensor(data_g_xt, dtype=torch.float),\n",
        "                        y=torch.tensor(data_g_yt, dtype=torch.float),\n",
        "                        edge_index=edge_index, edge_attr=edge_attr)\n",
        "      torch.save(data_graph,  store_dir + '/time_slice' + '_{}.pt'.format(count))\n",
        "      processed_file_names.append('{}_{}.pt'.format('time_slice', count))\n",
        "\n",
        "  return station_id_2_node_id_map\n"
      ],
      "execution_count": 5,
      "outputs": []
    },
    {
      "cell_type": "code",
      "metadata": {
        "id": "O567yZD8AG0E",
        "colab_type": "code",
        "colab": {}
      },
      "source": [
        "def time_windows(df, sample_size,t_shuffle, time_input_number, \n",
        "                 time_forward_pred, station_id_2_node_id_map,t_start, t_end):\n",
        "\n",
        "  stride = None\n",
        "  if sample_size is None and t_shuffle is False:\n",
        "      t_val_iter = range(t_start, t_end)\n",
        "  \n",
        "  elif (not sample_size is None) and t_shuffle:\n",
        "      seed_rg = rg = Generator(PCG64())\n",
        "      t_val_iter = seed_rg.choice(range(t_start, t_end), size=sample_size, replace=False)\n",
        "    \n",
        "  null_list = [0] * time_input_number\n",
        "  for t_val in t_val_iter:\n",
        "    df_x = df.loc[(df['time_id'] < t_val + time_input_number) & (df['time_id'] >= t_val)]\n",
        "    df_y = df.loc[df['time_id'] == t_val + time_input_number + time_forward_pred - 1]\n",
        "\n",
        "    if len(df_x) == 0 or len(df_y) == 0:\n",
        "      raise RuntimeError('Encountered missing time period')\n",
        "\n",
        "    # Move from pandas to torch tensor compatible data\n",
        "    data_xt = [[null_list, null_list]] * len(station_id_2_node_id_map)\n",
        "    for station_id, chunk in df_x.groupby('station_id'):\n",
        "      ind = station_id_2_node_id_map[station_id]\n",
        "      data_xt[ind] = [chunk['arrivals'].tolist(),chunk['departures'].tolist()]\n",
        "\n",
        "    data_yt = [[0, 0]] * len(station_id_2_node_id_map)\n",
        "    for station_id, chunk in df_y.groupby('station_id'):\n",
        "      ind = station_id_2_node_id_map[station_id]\n",
        "      data_yt[ind] = [chunk['arrivals'].item(), chunk['departures'].item()]\n",
        "\n",
        "    yield data_xt, data_yt\n",
        "\n",
        "  "
      ],
      "execution_count": 6,
      "outputs": []
    },
    {
      "cell_type": "code",
      "metadata": {
        "id": "8rBKhoWRtgA8",
        "colab_type": "code",
        "colab": {}
      },
      "source": [
        "def make_edges(station_exclusion, time_int):\n",
        "\n",
        "  df_gw = pd.read_csv('/content/drive/My Drive/data_int_{}/graph_weight.csv'.format(time_int))\n",
        "  df_gw['StartStation Id'] = df_gw['StartStation Id'].astype(int)\n",
        "  df_gw['EndStation Id'] = df_gw['EndStation Id'].astype(int)\n",
        "  df_gw['weight'] = df_gw['average_percent'].astype(float)\n",
        "  df_gw = df_gw[['StartStation Id', 'EndStation Id', 'weight']]\n",
        "\n",
        "  if not station_exclusion is None:\n",
        "    df_gw = df_gw.loc[~df_gw['StartStation Id'].isin(station_exclusion)]\n",
        "    df_gw = df_gw.loc[~df_gw['EndStation Id'].isin(station_exclusion)]\n",
        "\n",
        "# Create map between station ids and node id, needed because Pytorch geometric reindex nodes\n",
        "  all_ids = set(df_gw['StartStation Id'].unique()).union(set(df_gw['EndStation Id'].unique()))\n",
        "  node_id_2_station_id_map = dict((n, sid) for n, sid in enumerate(all_ids))\n",
        "  station_id_2_node_id_map = {v: k for k, v in node_id_2_station_id_map.items()}\n",
        "\n",
        "  df3 = df_gw\n",
        "  # Put data in format expected by Pytorch\n",
        "  index = torch.tensor([[station_id_2_node_id_map[k] for k in df3['StartStation Id']],\n",
        "                        [station_id_2_node_id_map[k] for k in df3['EndStation Id']]], dtype=torch.long)\n",
        "  attr = torch.tensor(df3['weight'].tolist(), dtype=torch.float)\n",
        "\n",
        "  return index, attr, station_id_2_node_id_map"
      ],
      "execution_count": 7,
      "outputs": []
    },
    {
      "cell_type": "markdown",
      "metadata": {
        "id": "x48nq6Zwcx7G",
        "colab_type": "text"
      },
      "source": [
        "Train Data"
      ]
    },
    {
      "cell_type": "code",
      "metadata": {
        "id": "ayARvbXTsCd4",
        "colab_type": "code",
        "colab": {}
      },
      "source": [
        "#Set an time interval\n",
        "time_int = 60"
      ],
      "execution_count": 8,
      "outputs": []
    },
    {
      "cell_type": "markdown",
      "metadata": {
        "id": "wMR5TpcU6Uub",
        "colab_type": "text"
      },
      "source": [
        "Execute only one cell from below either 30 min or 60 min"
      ]
    },
    {
      "cell_type": "code",
      "metadata": {
        "id": "h-m0o3rArhS1",
        "colab_type": "code",
        "colab": {}
      },
      "source": [
        "#For 30 min intervals run this cell\n",
        "#source_data_files=['/content/drive/My Drive/data_int_30/data_reformat_0.csv',\n",
        "#                   '/content/drive/My Drive/data_int_30/data_reformat_1.csv',\n",
        "#                   '/content/drive/My Drive/data_int_30/data_reformat_2.csv',\n",
        "#                   '/content/drive/My Drive/data_int_30/data_reformat_3.csv']\n",
        "#source_graph_file= '/content/drive/My Drive/data_int_30/graph_weight.csv'\n"
      ],
      "execution_count": null,
      "outputs": []
    },
    {
      "cell_type": "code",
      "metadata": {
        "id": "bSAf5TxdrqBv",
        "colab_type": "code",
        "colab": {}
      },
      "source": [
        "# For 60 min interval run this cell\n",
        "source_data_files=['/content/drive/My Drive/data_int_60/data_reformat_0.csv',\n",
        "                   '/content/drive/My Drive/data_int_60/data_reformat_1.csv',\n",
        "                   '/content/drive/My Drive/data_int_60/data_reformat_2.csv',\n",
        "                   '/content/drive/My Drive/data_int_60/data_reformat_3.csv']\n",
        "source_graph_file= '/content/drive/My Drive/data_int_60/graph_weight.csv'"
      ],
      "execution_count": 9,
      "outputs": []
    },
    {
      "cell_type": "code",
      "metadata": {
        "id": "Algmbg9st-Nt",
        "colab_type": "code",
        "colab": {}
      },
      "source": [
        "data_dir = '/content/process_files'\n",
        "os.mkdir(data_dir)\n",
        "time_shuffle=True\n",
        "sample_size= 400\n",
        "create_from_source=True\n",
        "ntimes_leading=9\n",
        "ntimes_forward=4\n",
        "station_exclusion=[3000, 4286,4285]\n",
        "time_id_bounds=(0, 7315)\n",
        "\n",
        "station2id = create_torch_data(source_data_files, station_exclusion, time_id_bounds, \n",
        "                               ntimes_leading, ntimes_forward, sample_size, time_shuffle, \n",
        "                               data_dir, time_int)"
      ],
      "execution_count": 10,
      "outputs": []
    },
    {
      "cell_type": "code",
      "metadata": {
        "id": "dquSVWSivGaT",
        "colab_type": "code",
        "colab": {}
      },
      "source": [
        "datalist = []\n",
        "for file in listdir(data_dir):\n",
        "  data = torch.load(data_dir+'/'+file)\n",
        "  datalist.append(data)"
      ],
      "execution_count": 11,
      "outputs": []
    },
    {
      "cell_type": "markdown",
      "metadata": {
        "id": "XWfj2mcec1Sy",
        "colab_type": "text"
      },
      "source": [
        "Test Data"
      ]
    },
    {
      "cell_type": "code",
      "metadata": {
        "id": "XrDl217Jc389",
        "colab_type": "code",
        "colab": {}
      },
      "source": [
        "data_dir = '/content/test_files'\n",
        "os.mkdir(data_dir)\n",
        "sample_size= 200\n",
        "create_from_source=True\n",
        "ntimes_forward=1\n",
        "time_id_bounds=(7315,8759)\n",
        "\n",
        "station2id_test = create_torch_data(source_data_files, station_exclusion, time_id_bounds, \n",
        "                               ntimes_leading, ntimes_forward, sample_size, time_shuffle, \n",
        "                               data_dir, time_int)"
      ],
      "execution_count": 12,
      "outputs": []
    },
    {
      "cell_type": "code",
      "metadata": {
        "id": "FGd0UNnhc8fc",
        "colab_type": "code",
        "colab": {}
      },
      "source": [
        "testlist = []\n",
        "for file in listdir(data_dir):\n",
        "  test_data = torch.load(data_dir+'/'+file)\n",
        "  testlist.append(test_data)"
      ],
      "execution_count": 13,
      "outputs": []
    },
    {
      "cell_type": "markdown",
      "metadata": {
        "id": "A8QvVQr97fK7",
        "colab_type": "text"
      },
      "source": [
        "GCN Model"
      ]
    },
    {
      "cell_type": "code",
      "metadata": {
        "id": "Ei-mdNfD5SCK",
        "colab_type": "code",
        "colab": {}
      },
      "source": [
        "# Set a convention on input data tensor axes semantics\n",
        "IDX_CHANNEL = 1\n",
        "IDX_SPATIAL = 0\n",
        "IDX_TEMPORAL = 2"
      ],
      "execution_count": 14,
      "outputs": []
    },
    {
      "cell_type": "code",
      "metadata": {
        "id": "u7FYdkR75s03",
        "colab_type": "code",
        "colab": {}
      },
      "source": [
        "class SpatioTemporal(torch.nn.Module):\n",
        "  def __init__(self, n_spatial, n_temporal, channel_inputs, channel_outputs):\n",
        "    super(SpatioTemporal, self).__init__()\n",
        "    self.n_spatial = n_spatial\n",
        "    self.n_temporal = n_temporal\n",
        "    self.channel_inputs = channel_inputs\n",
        "    self.channel_outputs = channel_outputs"
      ],
      "execution_count": 15,
      "outputs": []
    },
    {
      "cell_type": "code",
      "metadata": {
        "id": "TSyd8b2o5uxI",
        "colab_type": "code",
        "colab": {}
      },
      "source": [
        "class Time1dConvGLU(SpatioTemporal):\n",
        "  def __init__(self, n_spatial, n_temporal, channel_inputs, channel_outputs, time_convolution_length):\n",
        "    super(Time1dConvGLU, self).__init__(n_spatial, n_temporal, channel_inputs, channel_outputs)\n",
        "    self.one_d_conv_1 = torch.nn.Conv1d(in_channels=self.channel_inputs,\n",
        "                                        out_channels=2 * self.channel_outputs,\n",
        "                                        kernel_size=time_convolution_length,\n",
        "                                        groups=1)\n",
        "    n_temporal_out = self.n_temporal - time_convolution_length + 1\n",
        "    assert n_temporal_out > 0\n",
        "\n",
        "  def forward(self, x):\n",
        "    total = []\n",
        "    for k_node, tensor_node in enumerate(x.split(1, dim=IDX_SPATIAL)):\n",
        "      pq_out = self.one_d_conv_1(tensor_node)\n",
        "      y_conv_and_gated_out = F.glu(pq_out, dim=1)\n",
        "      total.append(y_conv_and_gated_out)\n",
        "\n",
        "    nodes_spatial = torch.cat(total, dim=IDX_SPATIAL)\n",
        "    return nodes_spatial"
      ],
      "execution_count": 16,
      "outputs": []
    },
    {
      "cell_type": "code",
      "metadata": {
        "id": "4cBZMGUC5wkA",
        "colab_type": "code",
        "colab": {}
      },
      "source": [
        "class SpatialGraphConv(SpatioTemporal):\n",
        "  def __init__(self, n_spatial, n_temporal, channel_inputs, channel_outputs, graph_conv_kwargs):\n",
        "    super(SpatialGraphConv, self).__init__(n_spatial, n_temporal, channel_inputs, channel_outputs)\n",
        "\n",
        "    self.gcn = TAGConv(self.channel_inputs, self.channel_outputs, **graph_conv_kwargs)\n",
        "\n",
        "  def forward(self, data):\n",
        "    assert self.channel_inputs == data.x.shape[IDX_CHANNEL]\n",
        "    x_s = data.x\n",
        "    total = []\n",
        "    for k_t in range(data.x.shape[IDX_TEMPORAL]):\n",
        "      x_t = x_s[:,:,k_t]\n",
        "      y_t = self.gcn(x_t, data.edge_index, data.edge_attr)\n",
        "      y_t = F.relu(y_t)\n",
        "      total.append(y_t)\n",
        "\n",
        "    nodes_times = torch.stack(total, dim=IDX_TEMPORAL)\n",
        "    return nodes_times"
      ],
      "execution_count": 17,
      "outputs": []
    },
    {
      "cell_type": "code",
      "metadata": {
        "id": "YTxsvTih5yhm",
        "colab_type": "code",
        "colab": {}
      },
      "source": [
        "class TAGCN(torch.nn.Module):\n",
        "  def __init__(self, n_temporal_dim, n_spatial_dim, n_input_channels,\n",
        "               co_temporal=64, co_spatial=16, time_conv_length=3,\n",
        "               graph_conv_kwargs={}):\n",
        "    super(TAGCN, self).__init__()\n",
        "\n",
        "    self.n_temporal = n_temporal_dim\n",
        "    self.n_spatial = n_spatial_dim\n",
        "    self.n_input_channels = n_input_channels\n",
        "    self.co_temporal = co_temporal\n",
        "    self.co_spatial = co_spatial\n",
        "\n",
        "    self.permute_norm = (IDX_CHANNEL, IDX_SPATIAL, IDX_TEMPORAL)\n",
        "    assert n_temporal_dim - 4 * time_conv_length + 4 == 1\n",
        "\n",
        "    self.model_t_1a = Time1dConvGLU(n_spatial_dim, n_temporal_dim,\n",
        "                                    channel_inputs=n_input_channels,\n",
        "                                    channel_outputs=co_temporal,\n",
        "                                    time_convolution_length=time_conv_length)\n",
        "    self.model_s_1 = SpatialGraphConv(n_spatial_dim, n_temporal_dim - time_conv_length + 1,\n",
        "                                      channel_inputs=co_temporal,\n",
        "                                      channel_outputs=co_spatial,\n",
        "                                      graph_conv_kwargs=graph_conv_kwargs)\n",
        "    self.model_t_1b = Time1dConvGLU(n_spatial_dim, n_temporal_dim - time_conv_length + 1,\n",
        "                                    channel_inputs=co_spatial,\n",
        "                                    channel_outputs=co_temporal,\n",
        "                                    time_convolution_length=time_conv_length)\n",
        "    self.layer_norm_1 = torch.nn.LayerNorm([n_spatial_dim, n_temporal_dim - 2 * time_conv_length + 2])\n",
        "\n",
        "    self.model_t_2a = Time1dConvGLU(n_spatial_dim, n_temporal_dim - 2 * time_conv_length + 2,\n",
        "                                    channel_inputs=co_temporal,\n",
        "                                    channel_outputs=co_temporal,\n",
        "                                    time_convolution_length=time_conv_length)\n",
        "    self.model_s_2 = SpatialGraphConv(n_spatial_dim, n_temporal_dim - 3 * time_conv_length + 3,\n",
        "                                      channel_inputs=co_temporal,\n",
        "                                      channel_outputs=co_spatial,\n",
        "                                      graph_conv_kwargs=graph_conv_kwargs)\n",
        "    self.model_t_2b = Time1dConvGLU(n_spatial_dim, n_temporal_dim - 3 * time_conv_length + 3,\n",
        "                                    channel_inputs=co_spatial,\n",
        "                                    channel_outputs=co_temporal,\n",
        "                                    time_convolution_length=time_conv_length)\n",
        "    self.layer_norm_2 = torch.nn.LayerNorm([n_spatial_dim, n_temporal_dim - 4 * time_conv_length + 4])\n",
        "\n",
        "    self.model_output = torch.nn.Sequential(torch.nn.Linear(in_features=n_spatial_dim * co_temporal,\n",
        "                                                            out_features=n_spatial_dim * n_input_channels),\n",
        "                                            torch.nn.ReLU(),\n",
        "                                            torch.nn.Linear(in_features=n_spatial_dim * n_input_channels,\n",
        "                                                            out_features=n_spatial_dim * n_input_channels))\n",
        "  \n",
        "  def forward(self, data_graph):\n",
        "    data_step_0 = data_graph\n",
        "    edge_index = data_graph.edge_index\n",
        "    edge_attr = data_graph.edge_attr\n",
        "    self.n_graphs_in_batch = self._infer_batch_size(data_step_0.x)\n",
        "\n",
        "    data_step_0_x = data_step_0.x\n",
        "    data_step_1_x = self.model_t_1a(data_step_0_x)\n",
        "    data_step_1 = Data(data_step_1_x, edge_index, edge_attr)\n",
        "    data_step_2_x = self.model_s_1(data_step_1)\n",
        "    data_step_3_x = self.model_t_1b(data_step_2_x)\n",
        "    data_step_3_x = self._compute_layer_norm(data_step_3_x, self.layer_norm_1)\n",
        "\n",
        "    data_step_4_x = self.model_t_2a(data_step_3_x)\n",
        "    data_step_4 = Data(data_step_4_x, edge_index, edge_attr)\n",
        "    data_step_5_x = self.model_s_2(data_step_4)\n",
        "    data_step_6_x = self.model_t_2b(data_step_5_x)\n",
        "    data_step_6_x = self._compute_layer_norm(data_step_6_x, self.layer_norm_2)\n",
        "\n",
        "    data_out_reshape = data_step_6_x.reshape(self.n_graphs_in_batch, self.n_spatial * self.co_temporal)\n",
        "    data_output_x = self.model_output(data_out_reshape)\n",
        "    data_output_x = data_output_x.reshape(self.n_graphs_in_batch * self.n_spatial, self.n_input_channels)\n",
        "\n",
        "    return Data(y=data_output_x, edge_index=edge_index, edge_attr=edge_attr)\n",
        "\n",
        "  def _infer_batch_size(self, data_x):\n",
        "    if data_x.shape[IDX_SPATIAL] % self.n_spatial == 0:\n",
        "      n_batches = data_x.shape[IDX_SPATIAL] // self.n_spatial\n",
        "\n",
        "    else:\n",
        "      raise RuntimeError('Incorrect batch size')\n",
        "\n",
        "    return n_batches\n",
        "  \n",
        "  def _compute_layer_norm(self, data_x, norm_func):\n",
        "    ret = []\n",
        "    for k_batch in range(self.n_graphs_in_batch):\n",
        "      data_x_pergraph = data_x.narrow(IDX_SPATIAL, k_batch * self.n_spatial, self.n_spatial)\n",
        "      data_x_pergraph_norm = norm_func(data_x_pergraph.permute(self.permute_norm)).permute(self.permute_norm)\n",
        "      ret.append(data_x_pergraph_norm)\n",
        "\n",
        "    return torch.cat(ret)"
      ],
      "execution_count": 18,
      "outputs": []
    },
    {
      "cell_type": "markdown",
      "metadata": {
        "id": "cvstPbGR7aQO",
        "colab_type": "text"
      },
      "source": [
        "Train"
      ]
    },
    {
      "cell_type": "code",
      "metadata": {
        "id": "RRgUQdTX52zj",
        "colab_type": "code",
        "colab": {}
      },
      "source": [
        "dataset_kwarg = datalist\n",
        "dataloader_kwargs = {'batch_size' : 64, 'shuffle' : True}\n",
        "\n",
        "model_kwargs = {'n_temporal_dim' : 9, 'n_input_channels' : 2,\n",
        "                  'co_temporal' :64, 'co_spatial' :16, 'time_conv_length' : 3}\n",
        "\n",
        "optimizer_kwargs = {'lr' : 0.01,\n",
        "                      'momentum' : 0.9}\n",
        "\n",
        "max_epochs = 5\n"
      ],
      "execution_count": 19,
      "outputs": []
    },
    {
      "cell_type": "code",
      "metadata": {
        "id": "fjkku9k3o8ma",
        "colab_type": "code",
        "colab": {}
      },
      "source": [
        "device = torch.device('cuda' if torch.cuda.is_available() else 'cpu')\n",
        "bike_loader = DataLoader(datalist, **dataloader_kwargs)"
      ],
      "execution_count": 20,
      "outputs": []
    },
    {
      "cell_type": "code",
      "metadata": {
        "id": "2kuRPGz4o-5w",
        "colab_type": "code",
        "colab": {}
      },
      "source": [
        "model = TAGCN(n_spatial_dim=datalist[0].num_nodes, **model_kwargs).to(device)\n",
        "optimizer = torch.optim.SGD(model.parameters(), **optimizer_kwargs)\n",
        "model.train()\n",
        "tagcn_loss =[]"
      ],
      "execution_count": 21,
      "outputs": []
    },
    {
      "cell_type": "code",
      "metadata": {
        "id": "cl0KQoGS6KoB",
        "colab_type": "code",
        "colab": {
          "base_uri": "https://localhost:8080/",
          "height": 105
        },
        "outputId": "d48ba4b8-df30-44b4-fb90-a8eab679d886"
      },
      "source": [
        "for epoch in range(max_epochs):\n",
        "  print ('Epoch {} at {}'.format(epoch, datetime.now().isoformat()))\n",
        "  for k_batch, local_batch in enumerate(bike_loader):\n",
        "    local_batch = local_batch.to(device)\n",
        "    optimizer.zero_grad()\n",
        "    #out = model(local_batch)\n",
        "    loss = funct.mse_loss(model(local_batch).y, local_batch.y)\n",
        "    tagcn_loss.append(loss)\n",
        "    loss.backward()\n",
        "    optimizer.step()\n",
        "    \n"
      ],
      "execution_count": 22,
      "outputs": [
        {
          "output_type": "stream",
          "text": [
            "Epoch 0 at 2020-08-16T20:18:47.699022\n",
            "Epoch 1 at 2020-08-16T20:20:21.099894\n",
            "Epoch 2 at 2020-08-16T20:21:52.759260\n",
            "Epoch 3 at 2020-08-16T20:23:25.189379\n",
            "Epoch 4 at 2020-08-16T20:24:56.912389\n"
          ],
          "name": "stdout"
        }
      ]
    },
    {
      "cell_type": "code",
      "metadata": {
        "id": "92slenXS3ZdX",
        "colab_type": "code",
        "colab": {
          "base_uri": "https://localhost:8080/",
          "height": 279
        },
        "outputId": "d4500f2b-4ff4-4255-84c7-73e032fd4a05"
      },
      "source": [
        "#Training MSE Loss\n",
        "plt.plot(tagcn_loss)\n",
        "plt.xlabel(\"Execution Cycle\")\n",
        "plt.ylabel(\"Training Loss\")\n",
        "plt.show()"
      ],
      "execution_count": 23,
      "outputs": [
        {
          "output_type": "display_data",
          "data": {
            "image/png": "[encoded data removed]",
            "text/plain": [
              "<Figure size 432x288 with 1 Axes>"
            ]
          },
          "metadata": {
            "tags": [],
            "needs_background": "light"
          }
        }
      ]
    },
    {
      "cell_type": "code",
      "metadata": {
        "id": "sB1GO_OmLKDp",
        "colab_type": "code",
        "colab": {}
      },
      "source": [
        "#Saving the model compiled\n",
        "torch.save({'max_epochs': epoch,'k_batch': k_batch,\n",
        "                  'model_state_dict': model.state_dict(),\n",
        "                  'optimizer_state_dict': optimizer.state_dict(),\n",
        "                  'loss': loss},'/content/tagcn_model' + '.tar')"
      ],
      "execution_count": 24,
      "outputs": []
    },
    {
      "cell_type": "code",
      "metadata": {
        "id": "RYgua0HK4I4k",
        "colab_type": "code",
        "colab": {}
      },
      "source": [
        "#Loading the model file \n",
        "device = torch.device('cuda' if torch.cuda.is_available() else 'cpu')\n",
        "model = TAGCN(n_spatial_dim=datalist[0].num_nodes, **model_kwargs).to(device)\n",
        "state = torch.load('/content/tagcn_model.tar')\n",
        "model.load_state_dict(state['model_state_dict'])\n",
        "model.eval()\n",
        "# Predicts for the station id's included in the viz station\n",
        "viz_stations = [3005]"
      ],
      "execution_count": 25,
      "outputs": []
    },
    {
      "cell_type": "code",
      "metadata": {
        "id": "_05wZ6MUjl0c",
        "colab_type": "code",
        "colab": {}
      },
      "source": [
        "#Setting test parameters\n",
        "dataloader_test = {'batch_size' : 10, 'shuffle' : False}\n",
        "test_loader = DataLoader(testlist, **dataloader_test)"
      ],
      "execution_count": 26,
      "outputs": []
    },
    {
      "cell_type": "code",
      "metadata": {
        "id": "ddaa5d0s6772",
        "colab_type": "code",
        "colab": {}
      },
      "source": [
        "device = torch.device('cuda' if torch.cuda.is_available() else 'cpu')\n",
        "inds = [station2id_test[k] for k in viz_stations]\n",
        "inds_slicer = [[ind * 2, ind *2 + 1] for ind in inds]\n",
        "inds_slicer = torch.tensor(inds_slicer).flatten().to(device)\n",
        "totals_predict = []\n",
        "totals_actual = []\n",
        "for n_time, data in enumerate(test_loader):\n",
        "  data = data.to(device)\n",
        "  predict = model(data).y\n",
        "  actual = data.y\n",
        "  v_predict = torch.take(predict, inds_slicer)\n",
        "  v_actual = torch.take(actual, inds_slicer)\n",
        "  totals_predict.extend(list(v_predict))\n",
        "  totals_actual.extend(list(v_actual))\n",
        "\n"
      ],
      "execution_count": 27,
      "outputs": []
    },
    {
      "cell_type": "code",
      "metadata": {
        "id": "AnVHN_zmUPaM",
        "colab_type": "code",
        "colab": {
          "base_uri": "https://localhost:8080/",
          "height": 140
        },
        "outputId": "bdc9ab6f-ce4a-449a-e426-7301c4dc354b"
      },
      "source": [
        "mind = pd.MultiIndex.from_product([['arrivals', 'departures'], range(n_time + 1), viz_stations],\n",
        "                                  names=['event_type', 'local_time_id', 'station_id'])\n",
        "df_1 = pd.DataFrame(totals_actual, index=mind, columns=['actual_count'])\n",
        "df_2 = pd.DataFrame(totals_predict, index=mind, columns=['predicted_count'])\n",
        "df = df_1.join(df_2)\n",
        "print (df.head())\n"
      ],
      "execution_count": 28,
      "outputs": [
        {
          "output_type": "stream",
          "text": [
            "                                                    actual_count                                    predicted_count\n",
            "event_type local_time_id station_id                                                                                \n",
            "arrivals   0             3005        tensor(0., device='cuda:0')  tensor(0.0462, device='cuda:0', grad_fn=<Selec...\n",
            "           1             3005        tensor(0., device='cuda:0')  tensor(0.0125, device='cuda:0', grad_fn=<Selec...\n",
            "           2             3005        tensor(3., device='cuda:0')  tensor(0.4434, device='cuda:0', grad_fn=<Selec...\n",
            "           3             3005        tensor(1., device='cuda:0')  tensor(0.2193, device='cuda:0', grad_fn=<Selec...\n",
            "           4             3005        tensor(5., device='cuda:0')  tensor(0.3294, device='cuda:0', grad_fn=<Selec...\n"
          ],
          "name": "stdout"
        }
      ]
    },
    {
      "cell_type": "code",
      "metadata": {
        "id": "vn1xZENd6Siy",
        "colab_type": "code",
        "colab": {}
      },
      "source": [
        "bike_demand_df = df.loc[(df.index.get_level_values('event_type') == 'arrivals')]\n",
        "dock_demand_df = df.loc[(df.index.get_level_values('event_type') == 'departures')]"
      ],
      "execution_count": 29,
      "outputs": []
    },
    {
      "cell_type": "code",
      "metadata": {
        "id": "5DDKvc1sanM2",
        "colab_type": "code",
        "colab": {}
      },
      "source": [
        "bike_demand_df['actual_count'] = bike_demand_df['actual_count'].apply(lambda row: row.item())\n",
        "bike_demand_df['predicted_count'] = bike_demand_df['predicted_count'].apply(lambda row: row.item())\n",
        "dock_demand_df['actual_count'] = dock_demand_df['actual_count'].apply(lambda row: row.item())\n",
        "dock_demand_df['predicted_count'] = dock_demand_df['predicted_count'].apply(lambda row: row.item())"
      ],
      "execution_count": null,
      "outputs": []
    },
    {
      "cell_type": "code",
      "metadata": {
        "id": "-aCx0y0O3ifj",
        "colab_type": "code",
        "colab": {}
      },
      "source": [
        "bike_demand_df.reset_index(level='local_time_id', inplace=True)\n",
        "dock_demand_df.reset_index(level='local_time_id', inplace=True)"
      ],
      "execution_count": 31,
      "outputs": []
    },
    {
      "cell_type": "code",
      "metadata": {
        "id": "htIwv9m2emB8",
        "colab_type": "code",
        "colab": {
          "base_uri": "https://localhost:8080/",
          "height": 308
        },
        "outputId": "4532b3ce-eca0-4cc8-80d8-d1dfc5bfebc5"
      },
      "source": [
        "#Plot bikes demand\n",
        "plt.plot(bike_demand_df.local_time_id[0:20], bike_demand_df.actual_count[0:20], color= 'blue') \n",
        "plt.plot(bike_demand_df.local_time_id[0:20], bike_demand_df.predicted_count[0:20], color= 'red') \n",
        "plt.xlabel('time id')\n",
        "plt.ylabel('demands')\n",
        "plt.suptitle('Bikes Demand')\n",
        "plt.show()\n"
      ],
      "execution_count": 38,
      "outputs": [
        {
          "output_type": "display_data",
          "data": {
            "image/png": "[encoded data removed]",
            "text/plain": [
              "<Figure size 432x288 with 1 Axes>"
            ]
          },
          "metadata": {
            "tags": [],
            "needs_background": "light"
          }
        }
      ]
    },
    {
      "cell_type": "code",
      "metadata": {
        "id": "0ZDuHAx33E3L",
        "colab_type": "code",
        "colab": {
          "base_uri": "https://localhost:8080/",
          "height": 308
        },
        "outputId": "9ea7ecd7-9464-46ad-9350-d08b50ea45d2"
      },
      "source": [
        "#Plot docks demand\n",
        "plt.plot(dock_demand_df.local_time_id[0:20], dock_demand_df.actual_count[0:20], color= 'blue') \n",
        "plt.plot(dock_demand_df.local_time_id[0:20], dock_demand_df.predicted_count[0:20], color= 'red') \n",
        "plt.xlabel('time id')\n",
        "plt.ylabel('demands')\n",
        "plt.suptitle('Docks Demand')\n",
        "plt.show()\n"
      ],
      "execution_count": 37,
      "outputs": [
        {
          "output_type": "display_data",
          "data": {
            "image/png": "[encoded data removed]",
            "text/plain": [
              "<Figure size 432x288 with 1 Axes>"
            ]
          },
          "metadata": {
            "tags": [],
            "needs_background": "light"
          }
        }
      ]
    },
    {
      "cell_type": "code",
      "metadata": {
        "id": "WZbn1woFIPjh",
        "colab_type": "code",
        "colab": {
          "base_uri": "https://localhost:8080/",
          "height": 87
        },
        "outputId": "de9f4ca2-435b-4981-a4a8-acfcffdc3327"
      },
      "source": [
        "print('Evaluation: Bike Demand')\n",
        "print(mean_squared_error(bike_demand_df.actual_count,bike_demand_df.predicted_count))\n",
        "print(mean_absolute_error(bike_demand_df.actual_count,bike_demand_df.predicted_count))\n",
        "print(np.sqrt(mean_absolute_error(bike_demand_df.actual_count,bike_demand_df.predicted_count)))"
      ],
      "execution_count": 34,
      "outputs": [
        {
          "output_type": "stream",
          "text": [
            "Evaluation: Bike Demand\n",
            "3.6330172090154433\n",
            "1.2694316142238677\n",
            "1.1266905583272933\n"
          ],
          "name": "stdout"
        }
      ]
    },
    {
      "cell_type": "code",
      "metadata": {
        "id": "wsc1FpGOQuDG",
        "colab_type": "code",
        "colab": {
          "base_uri": "https://localhost:8080/",
          "height": 87
        },
        "outputId": "1652d96e-4dbf-4b6a-ea9f-45a2f5dd60f5"
      },
      "source": [
        "print('Evaluation: Dock Demand')\n",
        "print(mean_squared_error(dock_demand_df.actual_count,dock_demand_df.predicted_count))\n",
        "print(mean_absolute_error(dock_demand_df.actual_count,dock_demand_df.predicted_count))\n",
        "print(np.sqrt(mean_absolute_error(dock_demand_df.actual_count,dock_demand_df.predicted_count)))"
      ],
      "execution_count": 36,
      "outputs": [
        {
          "output_type": "stream",
          "text": [
            "Evaluation: Dock Demand\n",
            "1.7840270458863965\n",
            "0.7320685083046555\n",
            "0.8556100211572183\n"
          ],
          "name": "stdout"
        }
      ]
    },
    {
      "cell_type": "code",
      "metadata": {
        "id": "gK9BkaJCVSId",
        "colab_type": "code",
        "colab": {}
      },
      "source": [
        "bike_demand_df.to_csv('tagcn_bike.csv')\n",
        "dock_demand_df.to_csv('tagcn_dock.csv')"
      ],
      "execution_count": null,
      "outputs": []
    }
  ]
}