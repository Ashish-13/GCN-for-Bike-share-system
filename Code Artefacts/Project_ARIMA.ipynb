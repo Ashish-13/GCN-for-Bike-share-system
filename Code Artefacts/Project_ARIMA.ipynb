{
  "nbformat": 4,
  "nbformat_minor": 0,
  "metadata": {
    "colab": {
      "name": "Project-ARIMA.ipynb",
      "provenance": [],
      "collapsed_sections": []
    },
    "kernelspec": {
      "name": "python3",
      "display_name": "Python 3"
    },
    "accelerator": "GPU"
  },
  "cells": [
    {
      "cell_type": "markdown",
      "metadata": {
        "id": "gSmFpN5jLbbT",
        "colab_type": "text"
      },
      "source": [
        "# **Bike Sharing System**"
      ]
    },
    {
      "cell_type": "markdown",
      "metadata": {
        "id": "T8aMDMcpL2th",
        "colab_type": "text"
      },
      "source": [
        "# 1. Install Libraries "
      ]
    },
    {
      "cell_type": "code",
      "metadata": {
        "id": "qHZC11fTVe_0",
        "colab_type": "code",
        "colab": {}
      },
      "source": [
        "import os\n",
        "from os import listdir, makedirs, remove\n",
        "import os.path as osp\n",
        "import pandas as pd\n",
        "from datetime import datetime, timedelta\n",
        "import itertools\n",
        "import numpy as np\n",
        "import matplotlib.pylab as plt\n",
        "from statsmodels.tsa.stattools import adfuller\n",
        "from statsmodels.tsa.arima_model import ARIMA\n",
        "from statsmodels.graphics.tsaplots import plot_acf\n",
        "from sklearn.metrics import mean_squared_error\n",
        "from sklearn.metrics import mean_absolute_error\n"
      ],
      "execution_count": null,
      "outputs": []
    },
    {
      "cell_type": "markdown",
      "metadata": {
        "id": "Qf30GDXR_4MW",
        "colab_type": "text"
      },
      "source": [
        "# Data Preparation"
      ]
    },
    {
      "cell_type": "code",
      "metadata": {
        "id": "3TyFJKs0_DkS",
        "colab_type": "code",
        "colab": {}
      },
      "source": [
        "interval = 30"
      ],
      "execution_count": 2,
      "outputs": []
    },
    {
      "cell_type": "code",
      "metadata": {
        "id": "CSPk6iWR_MLI",
        "colab_type": "code",
        "colab": {}
      },
      "source": [
        "# Loading datasets obtained from pre-processing stage.\n",
        "tinterval_df = pd.read_csv(\"/content/drive/My Drive/data_int_{}/tinterval.csv\".format(interval))\n",
        "data_df= pd.read_csv(\"/content/drive/My Drive/data_int_{}/metro_formated_data.csv\".format(interval))"
      ],
      "execution_count": 3,
      "outputs": []
    },
    {
      "cell_type": "code",
      "metadata": {
        "id": "HmiZTymVEDv4",
        "colab_type": "code",
        "colab": {
          "base_uri": "https://localhost:8080/",
          "height": 195
        },
        "outputId": "198143f2-77fa-44ab-9661-5c4b287390d4"
      },
      "source": [
        "data_df.head()"
      ],
      "execution_count": 4,
      "outputs": [
        {
          "output_type": "execute_result",
          "data": {
            "text/html": [
              "<div>\n",
              "<style scoped>\n",
              "    .dataframe tbody tr th:only-of-type {\n",
              "        vertical-align: middle;\n",
              "    }\n",
              "\n",
              "    .dataframe tbody tr th {\n",
              "        vertical-align: top;\n",
              "    }\n",
              "\n",
              "    .dataframe thead th {\n",
              "        text-align: right;\n",
              "    }\n",
              "</style>\n",
              "<table border=\"1\" class=\"dataframe\">\n",
              "  <thead>\n",
              "    <tr style=\"text-align: right;\">\n",
              "      <th></th>\n",
              "      <th>time_id</th>\n",
              "      <th>station_id</th>\n",
              "      <th>docks_demand</th>\n",
              "      <th>bikes_demand</th>\n",
              "    </tr>\n",
              "  </thead>\n",
              "  <tbody>\n",
              "    <tr>\n",
              "      <th>0</th>\n",
              "      <td>288</td>\n",
              "      <td>3000</td>\n",
              "      <td>0</td>\n",
              "      <td>0</td>\n",
              "    </tr>\n",
              "    <tr>\n",
              "      <th>1</th>\n",
              "      <td>289</td>\n",
              "      <td>3000</td>\n",
              "      <td>0</td>\n",
              "      <td>0</td>\n",
              "    </tr>\n",
              "    <tr>\n",
              "      <th>2</th>\n",
              "      <td>290</td>\n",
              "      <td>3000</td>\n",
              "      <td>0</td>\n",
              "      <td>0</td>\n",
              "    </tr>\n",
              "    <tr>\n",
              "      <th>3</th>\n",
              "      <td>291</td>\n",
              "      <td>3000</td>\n",
              "      <td>0</td>\n",
              "      <td>0</td>\n",
              "    </tr>\n",
              "    <tr>\n",
              "      <th>4</th>\n",
              "      <td>292</td>\n",
              "      <td>3000</td>\n",
              "      <td>0</td>\n",
              "      <td>0</td>\n",
              "    </tr>\n",
              "  </tbody>\n",
              "</table>\n",
              "</div>"
            ],
            "text/plain": [
              "   time_id  station_id  docks_demand  bikes_demand\n",
              "0      288        3000             0             0\n",
              "1      289        3000             0             0\n",
              "2      290        3000             0             0\n",
              "3      291        3000             0             0\n",
              "4      292        3000             0             0"
            ]
          },
          "metadata": {
            "tags": []
          },
          "execution_count": 4
        }
      ]
    },
    {
      "cell_type": "code",
      "metadata": {
        "id": "9A_QgzABAKDt",
        "colab_type": "code",
        "colab": {}
      },
      "source": [
        "#Joining both dataframes\n",
        "time_df = data_df.merge(tinterval_df, how= 'left', left_on='time_id', right_on= 'interval_id')\n",
        "time_df = time_df.drop(columns= ['time_id', 'Unnamed: 0','interval_id','outer_limit'])\n",
        "time_df = time_df.rename(columns={'inner_limit' : 'date_time'})\n",
        "time_df = time_df[['date_time', 'station_id', 'docks_demand', 'bikes_demand']]\n",
        "time_df['date_time'] = pd.to_datetime(time_df['date_time'])"
      ],
      "execution_count": 5,
      "outputs": []
    },
    {
      "cell_type": "code",
      "metadata": {
        "id": "h72nKLiqDb7v",
        "colab_type": "code",
        "colab": {
          "base_uri": "https://localhost:8080/",
          "height": 195
        },
        "outputId": "f3e1dfd5-8346-4022-ef4d-63815d5d72b6"
      },
      "source": [
        "data_df.head()"
      ],
      "execution_count": 6,
      "outputs": [
        {
          "output_type": "execute_result",
          "data": {
            "text/html": [
              "<div>\n",
              "<style scoped>\n",
              "    .dataframe tbody tr th:only-of-type {\n",
              "        vertical-align: middle;\n",
              "    }\n",
              "\n",
              "    .dataframe tbody tr th {\n",
              "        vertical-align: top;\n",
              "    }\n",
              "\n",
              "    .dataframe thead th {\n",
              "        text-align: right;\n",
              "    }\n",
              "</style>\n",
              "<table border=\"1\" class=\"dataframe\">\n",
              "  <thead>\n",
              "    <tr style=\"text-align: right;\">\n",
              "      <th></th>\n",
              "      <th>time_id</th>\n",
              "      <th>station_id</th>\n",
              "      <th>docks_demand</th>\n",
              "      <th>bikes_demand</th>\n",
              "    </tr>\n",
              "  </thead>\n",
              "  <tbody>\n",
              "    <tr>\n",
              "      <th>0</th>\n",
              "      <td>288</td>\n",
              "      <td>3000</td>\n",
              "      <td>0</td>\n",
              "      <td>0</td>\n",
              "    </tr>\n",
              "    <tr>\n",
              "      <th>1</th>\n",
              "      <td>289</td>\n",
              "      <td>3000</td>\n",
              "      <td>0</td>\n",
              "      <td>0</td>\n",
              "    </tr>\n",
              "    <tr>\n",
              "      <th>2</th>\n",
              "      <td>290</td>\n",
              "      <td>3000</td>\n",
              "      <td>0</td>\n",
              "      <td>0</td>\n",
              "    </tr>\n",
              "    <tr>\n",
              "      <th>3</th>\n",
              "      <td>291</td>\n",
              "      <td>3000</td>\n",
              "      <td>0</td>\n",
              "      <td>0</td>\n",
              "    </tr>\n",
              "    <tr>\n",
              "      <th>4</th>\n",
              "      <td>292</td>\n",
              "      <td>3000</td>\n",
              "      <td>0</td>\n",
              "      <td>0</td>\n",
              "    </tr>\n",
              "  </tbody>\n",
              "</table>\n",
              "</div>"
            ],
            "text/plain": [
              "   time_id  station_id  docks_demand  bikes_demand\n",
              "0      288        3000             0             0\n",
              "1      289        3000             0             0\n",
              "2      290        3000             0             0\n",
              "3      291        3000             0             0\n",
              "4      292        3000             0             0"
            ]
          },
          "metadata": {
            "tags": []
          },
          "execution_count": 6
        }
      ]
    },
    {
      "cell_type": "code",
      "metadata": {
        "id": "8DOGeWIdCFL6",
        "colab_type": "code",
        "colab": {
          "base_uri": "https://localhost:8080/",
          "height": 34
        },
        "outputId": "48073277-900c-415d-9ae8-f16484717648"
      },
      "source": [
        "#Removing Virtual Station and Fake Stations from Data\n",
        "print(time_df.shape)\n",
        "time_df = time_df[time_df.station_id != 3000]\n",
        "time_df = time_df[time_df.station_id != 4285]\n",
        "time_df = time_df[time_df.station_id != 4286]"
      ],
      "execution_count": 7,
      "outputs": [
        {
          "output_type": "stream",
          "text": [
            "(9959520, 4)\n"
          ],
          "name": "stdout"
        }
      ]
    },
    {
      "cell_type": "code",
      "metadata": {
        "id": "STSbT7N7CFP9",
        "colab_type": "code",
        "colab": {}
      },
      "source": [
        "# Sorting and reindexing columns\n",
        "time_df =time_df.sort_values(by ='date_time')"
      ],
      "execution_count": 8,
      "outputs": []
    },
    {
      "cell_type": "code",
      "metadata": {
        "id": "WRBzAwtxB5nB",
        "colab_type": "code",
        "colab": {}
      },
      "source": [
        "#One station\n",
        "df_3005 = time_df[time_df.station_id == 3005]"
      ],
      "execution_count": 9,
      "outputs": []
    },
    {
      "cell_type": "code",
      "metadata": {
        "id": "wenRZYKVD5jg",
        "colab_type": "code",
        "colab": {
          "base_uri": "https://localhost:8080/",
          "height": 158
        },
        "outputId": "7fec49c9-f1da-43b8-b24c-12864e07833e"
      },
      "source": [
        "# Obtain values for station 3005's bike and docks demand separately.\n",
        "df_3005 = time_df[time_df.station_id == 3005]\n",
        "df_3005_bike = df_3005[['date_time', 'bikes_demand']]\n",
        "df_3005_docks = df_3005[['date_time', 'docks_demand']]\n",
        "df_3005_bike.set_index('date_time', inplace=True)\n",
        "df_3005_docks.set_index('date_time', inplace=True)\n",
        "print(df_3005_bike.head(2))\n",
        "print(df_3005_docks.head(2))\n"
      ],
      "execution_count": 10,
      "outputs": [
        {
          "output_type": "stream",
          "text": [
            "                     bikes_demand\n",
            "date_time                        \n",
            "2019-01-01 00:00:00             0\n",
            "2019-01-01 00:30:00             0\n",
            "                     docks_demand\n",
            "date_time                        \n",
            "2019-01-01 00:00:00             0\n",
            "2019-01-01 00:30:00             0\n"
          ],
          "name": "stdout"
        }
      ]
    },
    {
      "cell_type": "markdown",
      "metadata": {
        "id": "xXHQxp4i-ept",
        "colab_type": "text"
      },
      "source": [
        "Confirming conditions of time series data before applying the dataset"
      ]
    },
    {
      "cell_type": "code",
      "metadata": {
        "id": "kC5HhLMOA3o3",
        "colab_type": "code",
        "colab": {}
      },
      "source": [
        "def test_stationarity(timeseries):\n",
        "  #determining rolling statistics\n",
        "  movingAverage = timeseries.rolling(window = 4).mean()\n",
        "  movingStd = timeseries.rolling(window = 4).std()\n",
        "  \n",
        "  #Plot rolling statistics\n",
        "  orig = plt.plot(timeseries, color = 'blue', label ='Original')\n",
        "  mean = plt.plot(movingAverage, color = 'red', label= 'Rolling Mean')\n",
        "  std = plt.plot(movingStd, color = 'black', label= 'Rolling Std')\n",
        "  plt.legend(loc='best')\n",
        "  plt.title('Rolling Mean & Standard Deviation')\n",
        "  plt.show(block=False)\n",
        "\n",
        "  #Perform Dickey-Fuller test:\n",
        "  print('Results of Dickey-Fullet Test:')\n",
        "  dftest = adfuller(timeseries['bikes_demand'], autolag = 'AIC')\n",
        "\n",
        "  dfoutput = pd.Series(dftest[0:4], index= ['Test Statistic', 'p-value', '#Lag Used', 'Number of Observations Used'])\n",
        "  for key, value in dftest[4].items():\n",
        "    dfoutput['Critical Value (%s)'%key] = value\n",
        "\n",
        "  print(dfoutput)"
      ],
      "execution_count": 11,
      "outputs": []
    },
    {
      "cell_type": "code",
      "metadata": {
        "id": "iCFvQR0IA3li",
        "colab_type": "code",
        "colab": {
          "base_uri": "https://localhost:8080/",
          "height": 439
        },
        "outputId": "0887471b-e5a8-4239-e74a-1d726307bd0c"
      },
      "source": [
        "test_stationarity(df_3005_bike)"
      ],
      "execution_count": 12,
      "outputs": [
        {
          "output_type": "display_data",
          "data": {
            "image/png": "[encoded data removed]",
            "text/plain": [
              "<Figure size 432x288 with 1 Axes>"
            ]
          },
          "metadata": {
            "tags": [],
            "needs_background": "light"
          }
        },
        {
          "output_type": "stream",
          "text": [
            "Results of Dickey-Fullet Test:\n",
            "Test Statistic                   -30.915157\n",
            "p-value                            0.000000\n",
            "#Lag Used                         23.000000\n",
            "Number of Observations Used    61224.000000\n",
            "Critical Value (1%)               -3.430457\n",
            "Critical Value (5%)               -2.861587\n",
            "Critical Value (10%)              -2.566795\n",
            "dtype: float64\n"
          ],
          "name": "stdout"
        }
      ]
    },
    {
      "cell_type": "markdown",
      "metadata": {
        "id": "IzE_B866qTEW",
        "colab_type": "text"
      },
      "source": [
        "Since p-value is less than 0.5 data is stationary"
      ]
    },
    {
      "cell_type": "code",
      "metadata": {
        "id": "PivMWGeRTQXt",
        "colab_type": "code",
        "colab": {}
      },
      "source": [
        "# execute this cell only if df_3005_bike p value is more than 0.5\n",
        "#and df_3005_bike_diff p value is less than 0.5\n",
        "df_3005_bike.shift(1)\n",
        "df_3005_dock_diff = df_3005_docks.diff(periods=1)\n",
        "df_3005_dock_diff = df_3005_dock_diff[1:]\n",
        "df_3005_dock_diff.head()\n",
        "df_3005_bike_diff.plot()\n",
        "test_stationarity(df_3005_bike_diff)\n",
        "df_3005_bike = df_3005_bike_diff"
      ],
      "execution_count": null,
      "outputs": []
    },
    {
      "cell_type": "markdown",
      "metadata": {
        "id": "QauEhqaVicx7",
        "colab_type": "text"
      },
      "source": [
        "Train and Test data"
      ]
    },
    {
      "cell_type": "code",
      "metadata": {
        "id": "6X4n5o5jc-iI",
        "colab_type": "code",
        "colab": {}
      },
      "source": [
        "X = df_3005_bike.values\n",
        "split = int(len(X)*0.8)\n",
        "train = X[0:split]\n",
        "test = X[split:]\n",
        "predictions = []\n"
      ],
      "execution_count": 14,
      "outputs": []
    },
    {
      "cell_type": "code",
      "metadata": {
        "id": "0QxUj1StGXqR",
        "colab_type": "code",
        "colab": {
          "base_uri": "https://localhost:8080/",
          "height": 477
        },
        "outputId": "44493934-b037-407f-eab6-f3042f0907db"
      },
      "source": [
        "#Identifying ideal parameter value of p,d and q with lowest AIC value\n",
        "\n",
        "df_aic = pd.DataFrame(columns = ['Parameters', 'AIC'])   \n",
        "param_list =[]\n",
        "aic_list=[]\n",
        "p=q=range(0,5)\n",
        "d=range(1,2)\n",
        "pdq = list(itertools.product(p,d,q))\n",
        "for param in pdq:\n",
        "  try:\n",
        "    model_arima = ARIMA(train,order=param)\n",
        "    model_arima_fit = model_arima.fit()\n",
        "    param_list.append(param)\n",
        "    aic_list.append(model_arima_fit.aic)\n",
        "    print(param,model_arima_fit.aic)\n",
        "  except:\n",
        "    continue\n",
        "df_aic['Parameters'] = param_list\n",
        "df_aic['AIC'] = aic_list"
      ],
      "execution_count": 15,
      "outputs": [
        {
          "output_type": "stream",
          "text": [
            "(0, 1, 0) 157429.31388219254\n",
            "(0, 1, 1) 133976.7752558983\n",
            "(0, 1, 2) 133778.38668290476\n",
            "(1, 1, 0) 144515.89374081878\n",
            "(1, 1, 1) 133741.7314817912\n",
            "(1, 1, 2) 132992.53075331246\n",
            "(1, 1, 3) 132949.4215652671\n",
            "(1, 1, 4) 133494.1182688598\n",
            "(2, 1, 0) 140729.9192449045\n",
            "(2, 1, 1) 133513.72790383597\n",
            "(2, 1, 2) 133536.94174415752\n",
            "(2, 1, 3) 132924.6938428773\n",
            "(2, 1, 4) 132804.4371608915\n",
            "(3, 1, 0) 138015.6239298381\n",
            "(3, 1, 1) 133508.76510889461\n",
            "(3, 1, 2) 133452.71469493432\n",
            "(3, 1, 3) 132796.17496435242\n",
            "(3, 1, 4) 132771.97636728347\n",
            "(4, 1, 0) 136930.63516407183\n",
            "(4, 1, 1) 133397.80706570865\n",
            "(4, 1, 2) 133407.2857175292\n",
            "(4, 1, 3) 132855.2039445796\n",
            "(4, 1, 4) 132787.20986763082\n"
          ],
          "name": "stdout"
        },
        {
          "output_type": "stream",
          "text": [
            "/usr/local/lib/python3.6/dist-packages/statsmodels/base/model.py:492: HessianInversionWarning: Inverting hessian failed, no bse or cov_params available\n",
            "  'available', HessianInversionWarning)\n"
          ],
          "name": "stderr"
        }
      ]
    },
    {
      "cell_type": "code",
      "metadata": {
        "id": "yujLJ4nOe2Kq",
        "colab_type": "code",
        "colab": {
          "base_uri": "https://localhost:8080/",
          "height": 52
        },
        "outputId": "067bde00-fd36-4d52-8563-55f8a42b7697"
      },
      "source": [
        "#Training the Model\n",
        "model_arima = ARIMA(train, order= df_aic.Parameters[df_aic.AIC.idxmin()])\n",
        "model_arima_fit = model_arima.fit()\n",
        "print(model_arima_fit.aic)\n",
        "print(df_aic.Parameters[df_aic.AIC.idxmin()])"
      ],
      "execution_count": 16,
      "outputs": [
        {
          "output_type": "stream",
          "text": [
            "132771.97636728347\n",
            "(3, 1, 4)\n"
          ],
          "name": "stdout"
        }
      ]
    },
    {
      "cell_type": "code",
      "metadata": {
        "id": "4pAJIgsLiuzu",
        "colab_type": "code",
        "colab": {
          "base_uri": "https://localhost:8080/",
          "height": 34
        },
        "outputId": "481ee3f5-d924-4d79-d219-6b087cbdd0aa"
      },
      "source": [
        "# Prediction for test set\n",
        "predictions= model_arima_fit.forecast(steps=len(test))[0]\n",
        "print(len(predictions))"
      ],
      "execution_count": 17,
      "outputs": [
        {
          "output_type": "stream",
          "text": [
            "12250\n"
          ],
          "name": "stdout"
        }
      ]
    },
    {
      "cell_type": "markdown",
      "metadata": {
        "id": "BTmYReO6i2NX",
        "colab_type": "text"
      },
      "source": [
        "Evaluation"
      ]
    },
    {
      "cell_type": "code",
      "metadata": {
        "id": "uOqTqfKQmZ4x",
        "colab_type": "code",
        "colab": {
          "base_uri": "https://localhost:8080/",
          "height": 403
        },
        "outputId": "0cd3fde4-76d6-436c-e1db-90f2b3b250ea"
      },
      "source": [
        "df_eval = df_3005_bike[split:]\n",
        "df_eval['Prediction'] = predictions\n",
        "df_eval.tail(20).plot()"
      ],
      "execution_count": 18,
      "outputs": [
        {
          "output_type": "stream",
          "text": [
            "/usr/local/lib/python3.6/dist-packages/ipykernel_launcher.py:2: SettingWithCopyWarning: \n",
            "A value is trying to be set on a copy of a slice from a DataFrame.\n",
            "Try using .loc[row_indexer,col_indexer] = value instead\n",
            "\n",
            "See the caveats in the documentation: https://pandas.pydata.org/pandas-docs/stable/user_guide/indexing.html#returning-a-view-versus-a-copy\n",
            "  \n"
          ],
          "name": "stderr"
        },
        {
          "output_type": "execute_result",
          "data": {
            "text/plain": [
              "<matplotlib.axes._subplots.AxesSubplot at 0x7f66e7c22550>"
            ]
          },
          "metadata": {
            "tags": []
          },
          "execution_count": 18
        },
        {
          "output_type": "display_data",
          "data": {
            "image/png": "[encoded data removed]",
            "text/plain": [
              "<Figure size 432x288 with 1 Axes>"
            ]
          },
          "metadata": {
            "tags": [],
            "needs_background": "light"
          }
        }
      ]
    },
    {
      "cell_type": "code",
      "metadata": {
        "id": "vzJw5FRw1c9G",
        "colab_type": "code",
        "colab": {
          "base_uri": "https://localhost:8080/",
          "height": 87
        },
        "outputId": "034018b1-90d6-4814-ac2f-667a655e476e"
      },
      "source": [
        "#Evaluation\n",
        "print('Evaluation')\n",
        "print( \"Mean Squareed Error: \", mean_squared_error(test,predictions))\n",
        "print(\"Mean Absolute Error: \", mean_absolute_error(test,predictions))\n",
        "print( \"Root Mean Square Error: \", np.sqrt(mean_squared_error(test,predictions)))"
      ],
      "execution_count": 19,
      "outputs": [
        {
          "output_type": "stream",
          "text": [
            "Evaluation\n",
            "Mean Squareed Error:  1.124096849127318\n",
            "Mean Absolute Error:  0.7854960149318593\n",
            "Root Mean Square Error:  1.0602343368931786\n"
          ],
          "name": "stdout"
        }
      ]
    },
    {
      "cell_type": "markdown",
      "metadata": {
        "id": "5wfVjHtR-zQw",
        "colab_type": "text"
      },
      "source": [
        "## Docks Availability Model -Prediction"
      ]
    },
    {
      "cell_type": "code",
      "metadata": {
        "id": "fgVp9RwC1ciz",
        "colab_type": "code",
        "colab": {}
      },
      "source": [
        "def test_stationarity(timeseries):\n",
        "  #determining rolling statistics\n",
        "  movingAverage = timeseries.rolling(window = 4).mean()\n",
        "  movingStd = timeseries.rolling(window = 4).std()\n",
        "\n",
        "  #Plot rolling statistics\n",
        "  orig = plt.plot(timeseries, color = 'blue', label ='Original')\n",
        "  mean = plt.plot(movingAverage, color = 'red', label= 'Rolling Mean')\n",
        "  std = plt.plot(movingStd, color = 'black', label= 'Rolling Std')\n",
        "  plt.legend(loc='best')\n",
        "  plt.title('Rolling Mean & Standard Deviation')\n",
        "  plt.show(block=False)\n",
        "\n",
        "  #Perform Dickey-Fuller test:\n",
        "  print('Results of Dickey-Fullet Test:')\n",
        "  dftest = adfuller(timeseries['docks_demand'], autolag = 'AIC')\n",
        "\n",
        "  dfoutput = pd.Series(dftest[0:4], index= ['Test Statistic', 'p-value', '#Lag Used', 'Number of Observations Used'])\n",
        "  for key, value in dftest[4].items():\n",
        "    dfoutput['Critical Value (%s)'%key] = value\n",
        "\n",
        "  print(dfoutput)"
      ],
      "execution_count": 20,
      "outputs": []
    },
    {
      "cell_type": "code",
      "metadata": {
        "id": "XJr2XeKw-8SU",
        "colab_type": "code",
        "colab": {
          "base_uri": "https://localhost:8080/",
          "height": 439
        },
        "outputId": "fa564c9a-7d4c-49a9-e609-e23f43fe0169"
      },
      "source": [
        "test_stationarity(df_3005_docks)"
      ],
      "execution_count": 21,
      "outputs": [
        {
          "output_type": "display_data",
          "data": {
            "image/png": "[encoded data removed]",
            "text/plain": [
              "<Figure size 432x288 with 1 Axes>"
            ]
          },
          "metadata": {
            "tags": [],
            "needs_background": "light"
          }
        },
        {
          "output_type": "stream",
          "text": [
            "Results of Dickey-Fullet Test:\n",
            "Test Statistic                   -25.999766\n",
            "p-value                            0.000000\n",
            "#Lag Used                         60.000000\n",
            "Number of Observations Used    61187.000000\n",
            "Critical Value (1%)               -3.430457\n",
            "Critical Value (5%)               -2.861587\n",
            "Critical Value (10%)              -2.566795\n",
            "dtype: float64\n"
          ],
          "name": "stdout"
        }
      ]
    },
    {
      "cell_type": "code",
      "metadata": {
        "id": "xqpLjDiN-8PL",
        "colab_type": "code",
        "colab": {
          "base_uri": "https://localhost:8080/",
          "height": 225
        },
        "outputId": "091e07b6-feb5-45f6-acf2-7434d2cdcfba"
      },
      "source": [
        "# execute this cell only if df_3005_docks p value is more than 0.5\n",
        "#and df_3005_dock_diff p value is less than 0.5\n",
        "df_3005_docks.shift(1)\n",
        "df_3005_dock_diff = df_3005_docks.diff(periods=1)\n",
        "df_3005_dock_diff = df_3005_dock_diff[1:]\n",
        "df_3005_dock_diff.head()\n",
        "df_3005_dock_diff.plot()\n",
        "test_stationarity(df_3005_dock_diff)\n",
        "df_3005_dock = df_3005_dock_diff"
      ],
      "execution_count": 50,
      "outputs": [
        {
          "output_type": "execute_result",
          "data": {
            "text/html": [
              "<div>\n",
              "<style scoped>\n",
              "    .dataframe tbody tr th:only-of-type {\n",
              "        vertical-align: middle;\n",
              "    }\n",
              "\n",
              "    .dataframe tbody tr th {\n",
              "        vertical-align: top;\n",
              "    }\n",
              "\n",
              "    .dataframe thead th {\n",
              "        text-align: right;\n",
              "    }\n",
              "</style>\n",
              "<table border=\"1\" class=\"dataframe\">\n",
              "  <thead>\n",
              "    <tr style=\"text-align: right;\">\n",
              "      <th></th>\n",
              "      <th>docks_demand</th>\n",
              "    </tr>\n",
              "    <tr>\n",
              "      <th>date_time</th>\n",
              "      <th></th>\n",
              "    </tr>\n",
              "  </thead>\n",
              "  <tbody>\n",
              "    <tr>\n",
              "      <th>2019-01-01 01:00:00</th>\n",
              "      <td>1.0</td>\n",
              "    </tr>\n",
              "    <tr>\n",
              "      <th>2019-01-01 02:00:00</th>\n",
              "      <td>0.0</td>\n",
              "    </tr>\n",
              "    <tr>\n",
              "      <th>2019-01-01 03:00:00</th>\n",
              "      <td>-1.0</td>\n",
              "    </tr>\n",
              "    <tr>\n",
              "      <th>2019-01-01 04:00:00</th>\n",
              "      <td>0.0</td>\n",
              "    </tr>\n",
              "    <tr>\n",
              "      <th>2019-01-01 05:00:00</th>\n",
              "      <td>0.0</td>\n",
              "    </tr>\n",
              "  </tbody>\n",
              "</table>\n",
              "</div>"
            ],
            "text/plain": [
              "                     docks_demand\n",
              "date_time                        \n",
              "2019-01-01 01:00:00           1.0\n",
              "2019-01-01 02:00:00           0.0\n",
              "2019-01-01 03:00:00          -1.0\n",
              "2019-01-01 04:00:00           0.0\n",
              "2019-01-01 05:00:00           0.0"
            ]
          },
          "metadata": {
            "tags": []
          },
          "execution_count": 50
        }
      ]
    },
    {
      "cell_type": "code",
      "metadata": {
        "id": "nygdEq3V-8Fb",
        "colab_type": "code",
        "colab": {}
      },
      "source": [
        "X = df_3005_docks.values\n",
        "split = int(len(X)*0.8)\n",
        "train = X[0:split]\n",
        "test = X[split:]\n",
        "predictions = []\n"
      ],
      "execution_count": 22,
      "outputs": []
    },
    {
      "cell_type": "code",
      "metadata": {
        "id": "Pprp2EFC-8CZ",
        "colab_type": "code",
        "colab": {
          "base_uri": "https://localhost:8080/",
          "height": 547
        },
        "outputId": "a8ef88a4-1fd8-440b-b1d8-11d72980723e"
      },
      "source": [
        "df_aic = pd.DataFrame(columns = ['Parameters', 'AIC'])   \n",
        "param_list =[]\n",
        "aic_list=[]\n",
        "\n",
        "p=q=range(0,5)\n",
        "d=range(1,2)\n",
        "pdq = list(itertools.product(p,d,q))\n",
        "for param in pdq:\n",
        "  try:\n",
        "    model_arima = ARIMA(train,order=param)\n",
        "    model_arima_fit = model_arima.fit()\n",
        "    param_list.append(param)\n",
        "    aic_list.append(model_arima_fit.aic)\n",
        "    print(param,model_arima_fit.aic)\n",
        "  except:\n",
        "    continue\n",
        "df_aic['Parameters'] = param_list\n",
        "df_aic['AIC'] = aic_list"
      ],
      "execution_count": 23,
      "outputs": [
        {
          "output_type": "stream",
          "text": [
            "(0, 1, 0) 160244.25812685117\n",
            "(0, 1, 1) 137032.20695337234\n",
            "(0, 1, 2) 136817.02966167548\n",
            "(1, 1, 0) 146651.4568294415\n",
            "(1, 1, 1) 136753.11148939727\n",
            "(1, 1, 2) 136946.19478148592\n",
            "(1, 1, 3) 135768.2695388402\n",
            "(1, 1, 4) 136261.61255301075\n",
            "(2, 1, 0) 143301.2384261181\n",
            "(2, 1, 1) 136223.5927566568\n",
            "(2, 1, 2) 135766.582082741\n",
            "(2, 1, 3) 135630.4339504414\n"
          ],
          "name": "stdout"
        },
        {
          "output_type": "stream",
          "text": [
            "/usr/local/lib/python3.6/dist-packages/statsmodels/base/model.py:512: ConvergenceWarning: Maximum Likelihood optimization failed to converge. Check mle_retvals\n",
            "  \"Check mle_retvals\", ConvergenceWarning)\n"
          ],
          "name": "stderr"
        },
        {
          "output_type": "stream",
          "text": [
            "(2, 1, 4) 135565.22332939308\n",
            "(3, 1, 0) 140880.44234412623\n",
            "(3, 1, 1) 136205.93313647088\n",
            "(3, 1, 2) 136150.32838417255\n",
            "(3, 1, 3) 135552.37968673473\n"
          ],
          "name": "stdout"
        },
        {
          "output_type": "stream",
          "text": [
            "/usr/local/lib/python3.6/dist-packages/statsmodels/base/model.py:492: HessianInversionWarning: Inverting hessian failed, no bse or cov_params available\n",
            "  'available', HessianInversionWarning)\n"
          ],
          "name": "stderr"
        },
        {
          "output_type": "stream",
          "text": [
            "(3, 1, 4) 135629.89307426062\n",
            "(4, 1, 0) 139822.96101049375\n",
            "(4, 1, 1) 136083.91342158703\n",
            "(4, 1, 2) 136080.99890580526\n"
          ],
          "name": "stdout"
        },
        {
          "output_type": "stream",
          "text": [
            "/usr/local/lib/python3.6/dist-packages/statsmodels/base/model.py:492: HessianInversionWarning: Inverting hessian failed, no bse or cov_params available\n",
            "  'available', HessianInversionWarning)\n"
          ],
          "name": "stderr"
        },
        {
          "output_type": "stream",
          "text": [
            "(4, 1, 3) 135586.79605327573\n",
            "(4, 1, 4) 135473.82647274155\n"
          ],
          "name": "stdout"
        }
      ]
    },
    {
      "cell_type": "code",
      "metadata": {
        "id": "Y-kG5Xj__5W5",
        "colab_type": "code",
        "colab": {
          "base_uri": "https://localhost:8080/",
          "height": 52
        },
        "outputId": "08297b03-92dd-40c1-9fe6-00d43e6524e0"
      },
      "source": [
        "model_arima = ARIMA(train,order=df_aic.Parameters[df_aic.AIC.idxmin()])\n",
        "model_arima_fit = model_arima.fit()\n",
        "print(model_arima_fit.aic)\n",
        "print(df_aic.Parameters[df_aic.AIC.idxmin()])"
      ],
      "execution_count": 24,
      "outputs": [
        {
          "output_type": "stream",
          "text": [
            "135473.82647274155\n",
            "(4, 1, 4)\n"
          ],
          "name": "stdout"
        }
      ]
    },
    {
      "cell_type": "code",
      "metadata": {
        "id": "qX6eG6ytoZ6h",
        "colab_type": "code",
        "colab": {}
      },
      "source": [
        "predictions= model_arima_fit.forecast(steps=len(test))[0]\n",
        "#print(predictions)"
      ],
      "execution_count": 25,
      "outputs": []
    },
    {
      "cell_type": "code",
      "metadata": {
        "id": "hIlwTnWBBiOf",
        "colab_type": "code",
        "colab": {
          "base_uri": "https://localhost:8080/",
          "height": 403
        },
        "outputId": "c564b291-fc89-47fb-afad-079f92a99d34"
      },
      "source": [
        "#Plot  \n",
        "df_eval_docks = df_3005_docks[split:]\n",
        "df_eval_docks['Prediction'] = predictions\n",
        "df_eval_docks.tail(10).plot()"
      ],
      "execution_count": 26,
      "outputs": [
        {
          "output_type": "stream",
          "text": [
            "/usr/local/lib/python3.6/dist-packages/ipykernel_launcher.py:3: SettingWithCopyWarning: \n",
            "A value is trying to be set on a copy of a slice from a DataFrame.\n",
            "Try using .loc[row_indexer,col_indexer] = value instead\n",
            "\n",
            "See the caveats in the documentation: https://pandas.pydata.org/pandas-docs/stable/user_guide/indexing.html#returning-a-view-versus-a-copy\n",
            "  This is separate from the ipykernel package so we can avoid doing imports until\n"
          ],
          "name": "stderr"
        },
        {
          "output_type": "execute_result",
          "data": {
            "text/plain": [
              "<matplotlib.axes._subplots.AxesSubplot at 0x7f66e705b8d0>"
            ]
          },
          "metadata": {
            "tags": []
          },
          "execution_count": 26
        },
        {
          "output_type": "display_data",
          "data": {
            "image/png": "[encoded data removed]",
            "text/plain": [
              "<Figure size 432x288 with 1 Axes>"
            ]
          },
          "metadata": {
            "tags": [],
            "needs_background": "light"
          }
        }
      ]
    },
    {
      "cell_type": "code",
      "metadata": {
        "id": "oZzlDwSx_5TD",
        "colab_type": "code",
        "colab": {
          "base_uri": "https://localhost:8080/",
          "height": 87
        },
        "outputId": "994a2f29-b558-427d-f81e-a6457c36f585"
      },
      "source": [
        "#Evaluation\n",
        "print('Evaluation')\n",
        "print( \"Mean Squareed Error: \", mean_squared_error(test,predictions))\n",
        "print(\"Mean Absolute Error: \", mean_absolute_error(test,predictions))\n",
        "print( \"Root Mean Square Error: \", np.sqrt(mean_squared_error(test,predictions)))"
      ],
      "execution_count": 27,
      "outputs": [
        {
          "output_type": "stream",
          "text": [
            "Evaluation\n",
            "Mean Squareed Error:  1.1657842058696066\n",
            "Mean Absolute Error:  0.8238545746527919\n",
            "Root Mean Square Error:  1.0797148724869945\n"
          ],
          "name": "stdout"
        }
      ]
    }
  ]
}