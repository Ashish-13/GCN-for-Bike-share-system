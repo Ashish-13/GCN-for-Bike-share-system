{
  "nbformat": 4,
  "nbformat_minor": 0,
  "metadata": {
    "colab": {
      "name": "Project-LSTM.ipynb",
      "provenance": [],
      "collapsed_sections": [],
      "toc_visible": true
    },
    "kernelspec": {
      "name": "python3",
      "display_name": "Python 3"
    }
  },
  "cells": [
    {
      "cell_type": "code",
      "metadata": {
        "id": "s5h0bdjvj3EW",
        "colab_type": "code",
        "colab": {}
      },
      "source": [
        "import os\n",
        "from os import listdir, makedirs, remove\n",
        "import os.path as osp\n",
        "from datetime import datetime, timedelta\n",
        "from numpy.random import Generator, PCG64\n",
        "import math\n",
        "import matplotlib.pyplot as plt\n",
        "import keras\n",
        "import pandas as pd\n",
        "import numpy as np\n",
        "from keras.models import Sequential\n",
        "from keras.layers import Dense\n",
        "from keras.layers import LSTM\n",
        "from keras.layers import Dropout\n",
        "from keras.layers import *\n",
        "from sklearn.preprocessing import MinMaxScaler\n",
        "from sklearn.metrics import mean_squared_error\n",
        "from sklearn.metrics import mean_absolute_error\n",
        "from sklearn.model_selection import train_test_split\n",
        "from keras.callbacks import EarlyStopping\n"
      ],
      "execution_count": 27,
      "outputs": []
    },
    {
      "cell_type": "markdown",
      "metadata": {
        "id": "0WGi1h0zkdZn",
        "colab_type": "text"
      },
      "source": [
        "# Data Processing"
      ]
    },
    {
      "cell_type": "code",
      "metadata": {
        "id": "estlqLNW6gsk",
        "colab_type": "code",
        "colab": {}
      },
      "source": [
        "interval = 60"
      ],
      "execution_count": 28,
      "outputs": []
    },
    {
      "cell_type": "code",
      "metadata": {
        "id": "yLNT8VMQtmc-",
        "colab_type": "code",
        "colab": {}
      },
      "source": [
        "# Loading datasets obtained from pre-processing stage.\n",
        "tinterval_df = pd.read_csv(\"/content/drive/My Drive/data_int_{}/tinterval.csv\".format(interval))\n",
        "data_df= pd.read_csv(\"/content/drive/My Drive/data_int_{}/metro_formated_data.csv\".format(interval))"
      ],
      "execution_count": 29,
      "outputs": []
    },
    {
      "cell_type": "code",
      "metadata": {
        "id": "Ks0U2K7ZhnND",
        "colab_type": "code",
        "colab": {}
      },
      "source": [
        "#Joining both dataframes\n",
        "time_df = data_df.merge(tinterval_df, how= 'left', left_on='time_id', right_on= 'interval_id')\n",
        "time_df = time_df.drop(columns= ['time_id', 'Unnamed: 0','interval_id','outer_limit'])\n",
        "time_df = time_df.rename(columns={'inner_limit' : 'date_time'})\n",
        "time_df = time_df[['date_time', 'station_id', 'docks_demand', 'bikes_demand']]\n",
        "time_df['date_time'] = pd.to_datetime(time_df['date_time'])"
      ],
      "execution_count": 30,
      "outputs": []
    },
    {
      "cell_type": "code",
      "metadata": {
        "id": "MUpI51g7hzi4",
        "colab_type": "code",
        "colab": {
          "base_uri": "https://localhost:8080/",
          "height": 34
        },
        "outputId": "7ee9ad09-ea7d-4bcd-be64-fe23c555e358"
      },
      "source": [
        "#Removing Virtual Station and Fake Stations from Data\n",
        "print(time_df.shape)\n",
        "time_df = time_df[time_df.station_id != 3000]\n",
        "time_df = time_df[time_df.station_id != 4285]\n",
        "time_df = time_df[time_df.station_id != 4286]"
      ],
      "execution_count": 31,
      "outputs": [
        {
          "output_type": "stream",
          "text": [
            "(4979760, 4)\n"
          ],
          "name": "stdout"
        }
      ]
    },
    {
      "cell_type": "code",
      "metadata": {
        "id": "-azMCpvihzZq",
        "colab_type": "code",
        "colab": {}
      },
      "source": [
        "# Sorting and reindexing columns\n",
        "time_df=time_df.sort_values(by ='date_time')"
      ],
      "execution_count": 32,
      "outputs": []
    },
    {
      "cell_type": "code",
      "metadata": {
        "id": "zW8NnorGBffK",
        "colab_type": "code",
        "colab": {}
      },
      "source": [
        "#Removing Nan values\n",
        "df_3005 = time_df[time_df.station_id == 3005]"
      ],
      "execution_count": 33,
      "outputs": []
    },
    {
      "cell_type": "code",
      "metadata": {
        "id": "j6-BuOTJhzHE",
        "colab_type": "code",
        "colab": {
          "base_uri": "https://localhost:8080/",
          "height": 158
        },
        "outputId": "51d9bb7c-18fe-4eb2-8afe-a9f175709bad"
      },
      "source": [
        "# Obtain values for station 3005's bike and docks demand separately.\n",
        "df_3005_bike = df_3005[['date_time', 'bikes_demand']]\n",
        "df_3005_docks = df_3005[['date_time', 'docks_demand']]\n",
        "df_3005_bike.set_index('date_time', inplace=True)\n",
        "df_3005_docks.set_index('date_time', inplace=True)\n",
        "print(df_3005_bike.head(2))\n",
        "print(df_3005_docks.head(2))\n"
      ],
      "execution_count": 34,
      "outputs": [
        {
          "output_type": "stream",
          "text": [
            "                     bikes_demand\n",
            "date_time                        \n",
            "2019-01-01 00:00:00             0\n",
            "2019-01-01 01:00:00             0\n",
            "                     docks_demand\n",
            "date_time                        \n",
            "2019-01-01 00:00:00             0\n",
            "2019-01-01 01:00:00             1\n"
          ],
          "name": "stdout"
        }
      ]
    },
    {
      "cell_type": "markdown",
      "metadata": {
        "id": "bVQ0s73DqQjW",
        "colab_type": "text"
      },
      "source": [
        "#Training the model for bikes demand \n",
        "Splitting data in 80:20 ratio\n"
      ]
    },
    {
      "cell_type": "code",
      "metadata": {
        "id": "64l2faHtmlEl",
        "colab_type": "code",
        "colab": {}
      },
      "source": [
        "split = int(len(df_3005_bike)*0.80)\n",
        "training_set = df_3005_bike.iloc[:split, ].values\n",
        "test_set = df_3005_bike.iloc[split:, ].values"
      ],
      "execution_count": 35,
      "outputs": []
    },
    {
      "cell_type": "code",
      "metadata": {
        "id": "zKrJ2XwXk2ml",
        "colab_type": "code",
        "colab": {}
      },
      "source": [
        "# Feature Scaling\n",
        "sc = MinMaxScaler(feature_range = (0, 1))\n",
        "training_set_scaled = sc.fit_transform(training_set)\n",
        "# Creating a data structure with 60 time-steps and 1 output\n",
        "X_train = []\n",
        "y_train = []\n",
        "for i in range(60, split):\n",
        "    X_train.append(training_set_scaled[i-60:i, 0])\n",
        "    y_train.append(training_set_scaled[i, 0])\n",
        "X_train, y_train = np.array(X_train), np.array(y_train)\n",
        "X_train = np.reshape(X_train, (X_train.shape[0], X_train.shape[1], 1))\n"
      ],
      "execution_count": 36,
      "outputs": []
    },
    {
      "cell_type": "code",
      "metadata": {
        "id": "8YCJaUX3lpzD",
        "colab_type": "code",
        "colab": {
          "base_uri": "https://localhost:8080/",
          "height": 474
        },
        "outputId": "07f7e724-bf88-465e-e980-21431ebfb1b7"
      },
      "source": [
        "model = Sequential()\n",
        "#Adding the first LSTM layer and some Dropout regularisation\n",
        "model.add(LSTM(units = 50, return_sequences = True, input_shape = (X_train.shape[1], 1)))\n",
        "model.add(Dropout(0.2))\n",
        "# Adding a second LSTM layer and some Dropout regularisation\n",
        "model.add(LSTM(units = 50, return_sequences = True))\n",
        "model.add(Dropout(0.2))\n",
        "# Adding a third LSTM layer and some Dropout regularisation\n",
        "model.add(LSTM(units = 50, return_sequences = True))\n",
        "model.add(Dropout(0.2))\n",
        "# Adding a fourth LSTM layer and some Dropout regularisation\n",
        "model.add(LSTM(units = 50))\n",
        "model.add(Dropout(0.2))\n",
        "# Adding the output layer\n",
        "model.add(Dense(units = 1))\n",
        "\n",
        "model.summary()"
      ],
      "execution_count": 37,
      "outputs": [
        {
          "output_type": "stream",
          "text": [
            "Model: \"sequential_1\"\n",
            "_________________________________________________________________\n",
            "Layer (type)                 Output Shape              Param #   \n",
            "=================================================================\n",
            "lstm_4 (LSTM)                (None, 60, 50)            10400     \n",
            "_________________________________________________________________\n",
            "dropout_4 (Dropout)          (None, 60, 50)            0         \n",
            "_________________________________________________________________\n",
            "lstm_5 (LSTM)                (None, 60, 50)            20200     \n",
            "_________________________________________________________________\n",
            "dropout_5 (Dropout)          (None, 60, 50)            0         \n",
            "_________________________________________________________________\n",
            "lstm_6 (LSTM)                (None, 60, 50)            20200     \n",
            "_________________________________________________________________\n",
            "dropout_6 (Dropout)          (None, 60, 50)            0         \n",
            "_________________________________________________________________\n",
            "lstm_7 (LSTM)                (None, 50)                20200     \n",
            "_________________________________________________________________\n",
            "dropout_7 (Dropout)          (None, 50)                0         \n",
            "_________________________________________________________________\n",
            "dense_1 (Dense)              (None, 1)                 51        \n",
            "=================================================================\n",
            "Total params: 71,051\n",
            "Trainable params: 71,051\n",
            "Non-trainable params: 0\n",
            "_________________________________________________________________\n"
          ],
          "name": "stdout"
        }
      ]
    },
    {
      "cell_type": "code",
      "metadata": {
        "id": "DJJTBvg3bU3K",
        "colab_type": "code",
        "colab": {
          "base_uri": "https://localhost:8080/",
          "height": 369
        },
        "outputId": "fbec86db-192e-4c3a-b84f-7f92595590c4"
      },
      "source": [
        "model.compile(optimizer = 'adam', loss = 'mean_squared_error')\n",
        "# Fitting the model to the Training set\n",
        "history = model.fit(X_train, y_train, epochs = 30, batch_size = 32, validation_split= 0.2,\n",
        "                    callbacks = EarlyStopping(monitor='val_loss', patience = 5))"
      ],
      "execution_count": 38,
      "outputs": [
        {
          "output_type": "stream",
          "text": [
            "Epoch 1/30\n",
            "611/611 [==============================] - 72s 117ms/step - loss: 0.0016 - val_loss: 0.0019\n",
            "Epoch 2/30\n",
            "611/611 [==============================] - 72s 117ms/step - loss: 0.0015 - val_loss: 0.0017\n",
            "Epoch 3/30\n",
            "611/611 [==============================] - 72s 117ms/step - loss: 0.0015 - val_loss: 0.0017\n",
            "Epoch 4/30\n",
            "611/611 [==============================] - 72s 119ms/step - loss: 0.0014 - val_loss: 0.0018\n",
            "Epoch 5/30\n",
            "611/611 [==============================] - 73s 120ms/step - loss: 0.0014 - val_loss: 0.0017\n",
            "Epoch 6/30\n",
            "611/611 [==============================] - 73s 119ms/step - loss: 0.0014 - val_loss: 0.0018\n",
            "Epoch 7/30\n",
            "611/611 [==============================] - 74s 122ms/step - loss: 0.0014 - val_loss: 0.0019\n",
            "Epoch 8/30\n",
            "611/611 [==============================] - 76s 124ms/step - loss: 0.0014 - val_loss: 0.0019\n",
            "Epoch 9/30\n",
            "611/611 [==============================] - 74s 121ms/step - loss: 0.0014 - val_loss: 0.0017\n",
            "Epoch 10/30\n",
            "611/611 [==============================] - 74s 120ms/step - loss: 0.0014 - val_loss: 0.0017\n"
          ],
          "name": "stdout"
        }
      ]
    },
    {
      "cell_type": "code",
      "metadata": {
        "id": "WE_Kw6KKXM_h",
        "colab_type": "code",
        "colab": {
          "base_uri": "https://localhost:8080/",
          "height": 295
        },
        "outputId": "9767c24c-efc1-4f1e-bdad-a02f9d477df6"
      },
      "source": [
        "plt.plot(history.history['loss'])\n",
        "plt.plot(history.history['val_loss'])\n",
        "plt.title('Model Loss')\n",
        "plt.ylabel('Loss')\n",
        "plt.xlabel('Epoch')\n",
        "plt.legend(['Train', 'Validation'], loc='upper right')\n",
        "plt.show()"
      ],
      "execution_count": 39,
      "outputs": [
        {
          "output_type": "display_data",
          "data": {
            "image/png": "[encoded data removed]",
            "text/plain": [
              "<Figure size 432x288 with 1 Axes>"
            ]
          },
          "metadata": {
            "tags": [],
            "needs_background": "light"
          }
        }
      ]
    },
    {
      "cell_type": "code",
      "metadata": {
        "id": "5_OE2PYSS-PG",
        "colab_type": "code",
        "colab": {}
      },
      "source": [
        "lstm_int60_loss = pd.DataFrame(columns= ['Train_Loss', 'Val_Loss'])\n",
        "lstm_int60_loss['Train_Loss'] = history.history['loss']\n",
        "lstm_int60_loss['Val_Loss'] = history.history['val_loss']\n",
        "lstm_int60_loss.to_csv('lstm_int60_loss.csv')"
      ],
      "execution_count": 40,
      "outputs": []
    },
    {
      "cell_type": "code",
      "metadata": {
        "id": "jbaxanm9nDfX",
        "colab_type": "code",
        "colab": {
          "base_uri": "https://localhost:8080/",
          "height": 34
        },
        "outputId": "3eb9b58b-7dc4-45f5-d069-74b6604e652a"
      },
      "source": [
        "# \n",
        "dataset_train = df_3005_bike.iloc[:split, ]\n",
        "dataset_test = df_3005_bike.iloc[split:, ]\n",
        "dataset_total = pd.concat((dataset_train, dataset_test), axis = 0)\n",
        "inputs = dataset_total[len(dataset_total) - len(dataset_test)-60:].values\n",
        "inputs = inputs.reshape(-1,1)\n",
        "inputs = sc.transform(inputs)\n",
        "X_test = []\n",
        "for i in range(60, len(dataset_test)+60):\n",
        "    X_test.append(inputs[i-60:i, 0])\n",
        "X_test = np.array(X_test)\n",
        "X_test = np.reshape(X_test, (X_test.shape[0], X_test.shape[1], 1))\n",
        "print(X_test.shape)\n"
      ],
      "execution_count": 41,
      "outputs": [
        {
          "output_type": "stream",
          "text": [
            "(6125, 60, 1)\n"
          ],
          "name": "stdout"
        }
      ]
    },
    {
      "cell_type": "code",
      "metadata": {
        "id": "fYMp21FepTIK",
        "colab_type": "code",
        "colab": {}
      },
      "source": [
        "predicted_bike_demand = model.predict(X_test)\n",
        "predicted_bike_demand = sc.inverse_transform(predicted_bike_demand)"
      ],
      "execution_count": 42,
      "outputs": []
    },
    {
      "cell_type": "code",
      "metadata": {
        "id": "AVpm7ZXZx6xw",
        "colab_type": "code",
        "colab": {
          "base_uri": "https://localhost:8080/",
          "height": 87
        },
        "outputId": "9657674b-92de-4e34-cf5c-b48fad5b103d"
      },
      "source": [
        "#Evaluation\n",
        "print('Evaluation')\n",
        "print( \"Mean Squareed Error: \", mean_squared_error(dataset_test.values,predicted_bike_demand))\n",
        "print(\"Mean Absolute Error: \", mean_absolute_error(dataset_test.values,predicted_bike_demand))\n",
        "print( \"Root Mean Square Error: \", np.sqrt(mean_squared_error(dataset_test.values,predicted_bike_demand)))"
      ],
      "execution_count": 43,
      "outputs": [
        {
          "output_type": "stream",
          "text": [
            "Evaluation\n",
            "Mean Squareed Error:  2.682745965064132\n",
            "Mean Absolute Error:  1.1006068964223472\n",
            "Root Mean Square Error:  1.6379090222183075\n"
          ],
          "name": "stdout"
        }
      ]
    },
    {
      "cell_type": "code",
      "metadata": {
        "id": "Cm5Jyd4ipa0g",
        "colab_type": "code",
        "colab": {
          "base_uri": "https://localhost:8080/",
          "height": 413
        },
        "outputId": "5e39b50d-f48f-4de6-a948-e3f287c9cd07"
      },
      "source": [
        "# Visualising the results\n",
        "\n",
        "eval_df = dataset_test\n",
        "eval_df['Predictions'] = predicted_bike_demand\n",
        "\n",
        "eval_df.tail(24).plot()\n",
        "plt.title('Bikes Demand')\n",
        "plt.ylabel('Count')\n",
        "plt.xlabel('Time')\n",
        "plt.legend(['Bike Demand', 'Prediction'], loc='upper left')\n",
        "plt.show()"
      ],
      "execution_count": 44,
      "outputs": [
        {
          "output_type": "stream",
          "text": [
            "/usr/local/lib/python3.6/dist-packages/ipykernel_launcher.py:4: SettingWithCopyWarning: \n",
            "A value is trying to be set on a copy of a slice from a DataFrame.\n",
            "Try using .loc[row_indexer,col_indexer] = value instead\n",
            "\n",
            "See the caveats in the documentation: https://pandas.pydata.org/pandas-docs/stable/user_guide/indexing.html#returning-a-view-versus-a-copy\n",
            "  after removing the cwd from sys.path.\n"
          ],
          "name": "stderr"
        },
        {
          "output_type": "display_data",
          "data": {
            "image/png": "[encoded data removed]",
            "text/plain": [
              "<Figure size 432x288 with 1 Axes>"
            ]
          },
          "metadata": {
            "tags": [],
            "needs_background": "light"
          }
        }
      ]
    },
    {
      "cell_type": "code",
      "metadata": {
        "id": "XBOunAgoaDZF",
        "colab_type": "code",
        "colab": {}
      },
      "source": [
        "eval_df.to_csv('lstm_60_results.csv')"
      ],
      "execution_count": null,
      "outputs": []
    },
    {
      "cell_type": "markdown",
      "metadata": {
        "id": "PcX7F32GJKuq",
        "colab_type": "text"
      },
      "source": [
        "Docks Demand"
      ]
    },
    {
      "cell_type": "code",
      "metadata": {
        "id": "yVx880gXZ-g0",
        "colab_type": "code",
        "colab": {}
      },
      "source": [
        "split = int(len(df_3005_docks)*0.80)\n",
        "training_set_dock = df_3005_docks.iloc[:split, ].values\n",
        "test_set_dock = df_3005_docks.iloc[split:, ].values"
      ],
      "execution_count": 45,
      "outputs": []
    },
    {
      "cell_type": "code",
      "metadata": {
        "id": "70Nm9lqgJgV2",
        "colab_type": "code",
        "colab": {}
      },
      "source": [
        "# Feature Scaling\n",
        "sc = MinMaxScaler(feature_range = (0, 1))\n",
        "training_set_scaled = sc.fit_transform(training_set_dock)\n",
        "# Creating a data structure with 60 time-steps and 1 output\n",
        "X_train = []\n",
        "y_train = []\n",
        "for i in range(60, split):\n",
        "    X_train.append(training_set_scaled[i-60:i, 0])\n",
        "    y_train.append(training_set_scaled[i, 0])\n",
        "X_train, y_train = np.array(X_train), np.array(y_train)\n",
        "X_train = np.reshape(X_train, (X_train.shape[0], X_train.shape[1], 1))\n"
      ],
      "execution_count": 46,
      "outputs": []
    },
    {
      "cell_type": "code",
      "metadata": {
        "id": "hcTnUJPMJgeA",
        "colab_type": "code",
        "colab": {
          "base_uri": "https://localhost:8080/",
          "height": 474
        },
        "outputId": "70986c82-4b0e-4404-bb9c-71f0a5952ae3"
      },
      "source": [
        "model = Sequential()\n",
        "#Adding the first LSTM layer and some Dropout regularisation\n",
        "model.add(LSTM(units = 50, return_sequences = True, input_shape = (X_train.shape[1], 1)))\n",
        "model.add(Dropout(0.2))\n",
        "# Adding a second LSTM layer and some Dropout regularisation\n",
        "model.add(LSTM(units = 50, return_sequences = True))\n",
        "model.add(Dropout(0.2))\n",
        "# Adding a third LSTM layer and some Dropout regularisation\n",
        "model.add(LSTM(units = 50, return_sequences = True))\n",
        "model.add(Dropout(0.2))\n",
        "# Adding a fourth LSTM layer and some Dropout regularisation\n",
        "model.add(LSTM(units = 50))\n",
        "model.add(Dropout(0.2))\n",
        "# Adding the output layer\n",
        "model.add(Dense(units = 1))\n",
        "\n",
        "model.summary()\n"
      ],
      "execution_count": 47,
      "outputs": [
        {
          "output_type": "stream",
          "text": [
            "Model: \"sequential_2\"\n",
            "_________________________________________________________________\n",
            "Layer (type)                 Output Shape              Param #   \n",
            "=================================================================\n",
            "lstm_8 (LSTM)                (None, 60, 50)            10400     \n",
            "_________________________________________________________________\n",
            "dropout_8 (Dropout)          (None, 60, 50)            0         \n",
            "_________________________________________________________________\n",
            "lstm_9 (LSTM)                (None, 60, 50)            20200     \n",
            "_________________________________________________________________\n",
            "dropout_9 (Dropout)          (None, 60, 50)            0         \n",
            "_________________________________________________________________\n",
            "lstm_10 (LSTM)               (None, 60, 50)            20200     \n",
            "_________________________________________________________________\n",
            "dropout_10 (Dropout)         (None, 60, 50)            0         \n",
            "_________________________________________________________________\n",
            "lstm_11 (LSTM)               (None, 50)                20200     \n",
            "_________________________________________________________________\n",
            "dropout_11 (Dropout)         (None, 50)                0         \n",
            "_________________________________________________________________\n",
            "dense_2 (Dense)              (None, 1)                 51        \n",
            "=================================================================\n",
            "Total params: 71,051\n",
            "Trainable params: 71,051\n",
            "Non-trainable params: 0\n",
            "_________________________________________________________________\n"
          ],
          "name": "stdout"
        }
      ]
    },
    {
      "cell_type": "code",
      "metadata": {
        "id": "JP_rurAVJgat",
        "colab_type": "code",
        "colab": {
          "base_uri": "https://localhost:8080/",
          "height": 1000
        },
        "outputId": "dcb8f873-92e7-40e1-9820-f0ecf1ddae3d"
      },
      "source": [
        "# Compiling the model\n",
        "model.compile(optimizer = 'adam', loss = 'mean_squared_error')\n",
        "\n",
        "# Fitting the model to the Training set\n",
        "history = model.fit(X_train, y_train, epochs = 30, batch_size = 32, \n",
        "                    validation_split= 0.2, \n",
        "                    callbacks = EarlyStopping(monitor='val_loss', patience = 5))"
      ],
      "execution_count": 48,
      "outputs": [
        {
          "output_type": "stream",
          "text": [
            "Epoch 1/30\n",
            "611/611 [==============================] - 73s 119ms/step - loss: 0.0028 - val_loss: 0.0034\n",
            "Epoch 2/30\n",
            "611/611 [==============================] - 75s 122ms/step - loss: 0.0027 - val_loss: 0.0034\n",
            "Epoch 3/30\n",
            "611/611 [==============================] - 72s 118ms/step - loss: 0.0026 - val_loss: 0.0032\n",
            "Epoch 4/30\n",
            "611/611 [==============================] - 72s 118ms/step - loss: 0.0026 - val_loss: 0.0032\n",
            "Epoch 5/30\n",
            "611/611 [==============================] - 72s 118ms/step - loss: 0.0026 - val_loss: 0.0032\n",
            "Epoch 6/30\n",
            "611/611 [==============================] - 72s 119ms/step - loss: 0.0026 - val_loss: 0.0032\n",
            "Epoch 7/30\n",
            "611/611 [==============================] - 72s 118ms/step - loss: 0.0026 - val_loss: 0.0032\n",
            "Epoch 8/30\n",
            "611/611 [==============================] - 72s 118ms/step - loss: 0.0025 - val_loss: 0.0032\n",
            "Epoch 9/30\n",
            "611/611 [==============================] - 73s 119ms/step - loss: 0.0025 - val_loss: 0.0032\n",
            "Epoch 10/30\n",
            "611/611 [==============================] - 75s 123ms/step - loss: 0.0025 - val_loss: 0.0032\n",
            "Epoch 11/30\n",
            "611/611 [==============================] - 73s 119ms/step - loss: 0.0025 - val_loss: 0.0032\n",
            "Epoch 12/30\n",
            "611/611 [==============================] - 72s 119ms/step - loss: 0.0025 - val_loss: 0.0031\n",
            "Epoch 13/30\n",
            "611/611 [==============================] - 73s 119ms/step - loss: 0.0025 - val_loss: 0.0031\n",
            "Epoch 14/30\n",
            "611/611 [==============================] - 73s 119ms/step - loss: 0.0025 - val_loss: 0.0030\n",
            "Epoch 15/30\n",
            "611/611 [==============================] - 73s 119ms/step - loss: 0.0025 - val_loss: 0.0030\n",
            "Epoch 16/30\n",
            "611/611 [==============================] - 73s 119ms/step - loss: 0.0024 - val_loss: 0.0030\n",
            "Epoch 17/30\n",
            "611/611 [==============================] - 73s 120ms/step - loss: 0.0025 - val_loss: 0.0030\n",
            "Epoch 18/30\n",
            "611/611 [==============================] - 73s 120ms/step - loss: 0.0025 - val_loss: 0.0029\n",
            "Epoch 19/30\n",
            "611/611 [==============================] - 74s 122ms/step - loss: 0.0024 - val_loss: 0.0030\n",
            "Epoch 20/30\n",
            "611/611 [==============================] - 72s 119ms/step - loss: 0.0025 - val_loss: 0.0030\n",
            "Epoch 21/30\n",
            "611/611 [==============================] - 73s 120ms/step - loss: 0.0024 - val_loss: 0.0029\n",
            "Epoch 22/30\n",
            "611/611 [==============================] - 73s 119ms/step - loss: 0.0024 - val_loss: 0.0029\n",
            "Epoch 23/30\n",
            "611/611 [==============================] - 72s 118ms/step - loss: 0.0024 - val_loss: 0.0029\n",
            "Epoch 24/30\n",
            "611/611 [==============================] - 73s 120ms/step - loss: 0.0024 - val_loss: 0.0028\n",
            "Epoch 25/30\n",
            "611/611 [==============================] - 72s 118ms/step - loss: 0.0023 - val_loss: 0.0028\n",
            "Epoch 26/30\n",
            "611/611 [==============================] - 72s 118ms/step - loss: 0.0023 - val_loss: 0.0028\n",
            "Epoch 27/30\n",
            "611/611 [==============================] - 74s 122ms/step - loss: 0.0023 - val_loss: 0.0028\n",
            "Epoch 28/30\n",
            "611/611 [==============================] - 72s 118ms/step - loss: 0.0023 - val_loss: 0.0028\n",
            "Epoch 29/30\n",
            "611/611 [==============================] - 72s 118ms/step - loss: 0.0023 - val_loss: 0.0027\n",
            "Epoch 30/30\n",
            "611/611 [==============================] - 72s 118ms/step - loss: 0.0023 - val_loss: 0.0027\n"
          ],
          "name": "stdout"
        }
      ]
    },
    {
      "cell_type": "code",
      "metadata": {
        "id": "5l5z6DxxJftF",
        "colab_type": "code",
        "colab": {
          "base_uri": "https://localhost:8080/",
          "height": 295
        },
        "outputId": "e42447da-a8a0-4b0d-c4c5-33a858ac683a"
      },
      "source": [
        "plt.plot(history.history['loss'])\n",
        "plt.plot(history.history['val_loss'])\n",
        "plt.title('Model Loss')\n",
        "plt.ylabel('Loss')\n",
        "plt.xlabel('Epoch')\n",
        "plt.legend(['Train', 'Validation'], loc='upper right')\n",
        "plt.show()"
      ],
      "execution_count": 49,
      "outputs": [
        {
          "output_type": "display_data",
          "data": {
            "image/png": "[encoded data removed]",
            "text/plain": [
              "<Figure size 432x288 with 1 Axes>"
            ]
          },
          "metadata": {
            "tags": [],
            "needs_background": "light"
          }
        }
      ]
    },
    {
      "cell_type": "code",
      "metadata": {
        "id": "1OWHUS86J1AY",
        "colab_type": "code",
        "colab": {
          "base_uri": "https://localhost:8080/",
          "height": 34
        },
        "outputId": "d2ab707d-da2a-4c17-8f42-dfa1d16d7cb0"
      },
      "source": [
        "# \n",
        "dataset_train_docks = df_3005_docks.iloc[:split, ]\n",
        "dataset_test_docks = df_3005_docks.iloc[split:, ]\n",
        "dataset_total = pd.concat((dataset_train_docks, dataset_test_docks), axis = 0)\n",
        "inputs = dataset_total[len(dataset_total) - len(dataset_test_docks)-60:].values\n",
        "inputs = inputs.reshape(-1,1)\n",
        "inputs = sc.transform(inputs)\n",
        "X_test = []\n",
        "for i in range(60, len(dataset_test_docks)+60):\n",
        "    X_test.append(inputs[i-60:i, 0])\n",
        "X_test = np.array(X_test)\n",
        "X_test = np.reshape(X_test, (X_test.shape[0], X_test.shape[1], 1))\n",
        "print(X_test.shape)\n"
      ],
      "execution_count": 50,
      "outputs": [
        {
          "output_type": "stream",
          "text": [
            "(6125, 60, 1)\n"
          ],
          "name": "stdout"
        }
      ]
    },
    {
      "cell_type": "code",
      "metadata": {
        "id": "qTELU-1WJ06x",
        "colab_type": "code",
        "colab": {}
      },
      "source": [
        "predicted_docks_demand = model.predict(X_test)\n",
        "predicted_docks_demand = sc.inverse_transform(predicted_docks_demand)"
      ],
      "execution_count": 51,
      "outputs": []
    },
    {
      "cell_type": "code",
      "metadata": {
        "id": "kzjwHr1hJ0nn",
        "colab_type": "code",
        "colab": {
          "base_uri": "https://localhost:8080/",
          "height": 87
        },
        "outputId": "8ae56998-c4bd-4724-be2f-7c6fed3b313a"
      },
      "source": [
        "#Evaluation\n",
        "print('Evaluation')\n",
        "print( \"Mean Squareed Error: \", mean_squared_error(dataset_test_docks.values,predicted_docks_demand))\n",
        "print(\"Mean Absolute Error: \", mean_absolute_error(dataset_test_docks.values,predicted_docks_demand))\n",
        "print( \"Root Mean Square Error: \", np.sqrt(mean_squared_error(dataset_test_docks.values,predicted_docks_demand)))"
      ],
      "execution_count": 52,
      "outputs": [
        {
          "output_type": "stream",
          "text": [
            "Evaluation\n",
            "Mean Squareed Error:  2.4237230066825326\n",
            "Mean Absolute Error:  1.0971320680306882\n",
            "Root Mean Square Error:  1.5568310784033483\n"
          ],
          "name": "stdout"
        }
      ]
    },
    {
      "cell_type": "code",
      "metadata": {
        "id": "kTpLu7a0KFFP",
        "colab_type": "code",
        "colab": {
          "base_uri": "https://localhost:8080/",
          "height": 413
        },
        "outputId": "de9f1c37-00b3-4284-d6b9-d440aa67f99e"
      },
      "source": [
        "# Visualising the results\n",
        "eval_df = dataset_test_docks\n",
        "eval_df['Predictions'] = predicted_bike_demand\n",
        "\n",
        "eval_df.tail(24).plot()\n",
        "plt.title('Docks Demand')\n",
        "plt.ylabel('Count')\n",
        "plt.xlabel('Time')\n",
        "plt.legend(['Bike Demand', 'Prediction'], loc='upper left')\n",
        "plt.show()"
      ],
      "execution_count": 53,
      "outputs": [
        {
          "output_type": "stream",
          "text": [
            "/usr/local/lib/python3.6/dist-packages/ipykernel_launcher.py:4: SettingWithCopyWarning: \n",
            "A value is trying to be set on a copy of a slice from a DataFrame.\n",
            "Try using .loc[row_indexer,col_indexer] = value instead\n",
            "\n",
            "See the caveats in the documentation: https://pandas.pydata.org/pandas-docs/stable/user_guide/indexing.html#returning-a-view-versus-a-copy\n",
            "  after removing the cwd from sys.path.\n"
          ],
          "name": "stderr"
        },
        {
          "output_type": "display_data",
          "data": {
            "image/png": "[encoded data removed]",
            "text/plain": [
              "<Figure size 432x288 with 1 Axes>"
            ]
          },
          "metadata": {
            "tags": [],
            "needs_background": "light"
          }
        }
      ]
    }
  ]
}